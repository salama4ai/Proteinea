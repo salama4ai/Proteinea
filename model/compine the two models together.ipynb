{
 "cells": [
  {
   "cell_type": "code",
   "execution_count": 3,
   "id": "3dbbe9b9-b936-4f8c-95c8-f8e91d492cef",
   "metadata": {},
   "outputs": [],
   "source": [
    "import pandas as pd\n",
    "import calendar"
   ]
  },
  {
   "cell_type": "code",
   "execution_count": 4,
   "id": "1fc5a3b6-245b-4b16-8a30-df1a239eb30b",
   "metadata": {},
   "outputs": [
    {
     "data": {
      "text/plain": [
       "{0: [1, 8, 15, 22],\n",
       " 1: [2, 9, 16, 23],\n",
       " 2: [3, 10, 17, 24],\n",
       " 3: [4, 11, 18, 25],\n",
       " 4: [5, 12, 19, 26],\n",
       " 5: [6, 13, 20, 27],\n",
       " 6: [7, 14, 21, 28],\n",
       " 7: [1, 8, 15, 22, 29],\n",
       " 8: [2, 9, 16, 23, 30],\n",
       " 9: [3, 10, 17, 24, 31]}"
      ]
     },
     "execution_count": 4,
     "metadata": {},
     "output_type": "execute_result"
    }
   ],
   "source": [
    "# list of all possibole (10) output lists, the output must be one of theses lists\n",
    "groups = [[1, 8, 15, 22], \n",
    "         [2, 9, 16, 23], \n",
    "         [3, 10, 17, 24], \n",
    "         [4, 11, 18, 25], \n",
    "         [5, 12, 19, 26], \n",
    "         [6, 13, 20, 27], \n",
    "         [7, 14, 21, 28],\n",
    "         [1, 8, 15, 22, 29], \n",
    "         [2, 9, 16, 23, 30], \n",
    "         [3, 10, 17, 24, 31]]\n",
    "groups_dict = dict(enumerate(groups))\n",
    "groups_dict"
   ]
  },
  {
   "cell_type": "code",
   "execution_count": 5,
   "id": "c777c3d7-c0ec-4d39-ba78-e89362fc41e7",
   "metadata": {},
   "outputs": [
    {
     "data": {
      "text/html": [
       "<div>\n",
       "<style scoped>\n",
       "    .dataframe tbody tr th:only-of-type {\n",
       "        vertical-align: middle;\n",
       "    }\n",
       "\n",
       "    .dataframe tbody tr th {\n",
       "        vertical-align: top;\n",
       "    }\n",
       "\n",
       "    .dataframe thead th {\n",
       "        text-align: right;\n",
       "    }\n",
       "</style>\n",
       "<table border=\"1\" class=\"dataframe\">\n",
       "  <thead>\n",
       "    <tr style=\"text-align: right;\">\n",
       "      <th></th>\n",
       "      <th>leap_year_condition</th>\n",
       "      <th>decade</th>\n",
       "      <th>decade4</th>\n",
       "      <th>decade100</th>\n",
       "      <th>decade400</th>\n",
       "      <th>predicted_year_digit</th>\n",
       "      <th>predicted_year</th>\n",
       "    </tr>\n",
       "  </thead>\n",
       "  <tbody>\n",
       "    <tr>\n",
       "      <th>93803</th>\n",
       "      <td>0</td>\n",
       "      <td>217</td>\n",
       "      <td>1</td>\n",
       "      <td>1</td>\n",
       "      <td>1</td>\n",
       "      <td>9</td>\n",
       "      <td>2179</td>\n",
       "    </tr>\n",
       "    <tr>\n",
       "      <th>110270</th>\n",
       "      <td>1</td>\n",
       "      <td>219</td>\n",
       "      <td>1</td>\n",
       "      <td>1</td>\n",
       "      <td>1</td>\n",
       "      <td>2</td>\n",
       "      <td>2192</td>\n",
       "    </tr>\n",
       "    <tr>\n",
       "      <th>15897</th>\n",
       "      <td>0</td>\n",
       "      <td>205</td>\n",
       "      <td>1</td>\n",
       "      <td>1</td>\n",
       "      <td>1</td>\n",
       "      <td>0</td>\n",
       "      <td>2050</td>\n",
       "    </tr>\n",
       "    <tr>\n",
       "      <th>78831</th>\n",
       "      <td>0</td>\n",
       "      <td>203</td>\n",
       "      <td>1</td>\n",
       "      <td>1</td>\n",
       "      <td>1</td>\n",
       "      <td>0</td>\n",
       "      <td>2030</td>\n",
       "    </tr>\n",
       "    <tr>\n",
       "      <th>68188</th>\n",
       "      <td>0</td>\n",
       "      <td>181</td>\n",
       "      <td>1</td>\n",
       "      <td>1</td>\n",
       "      <td>1</td>\n",
       "      <td>0</td>\n",
       "      <td>1810</td>\n",
       "    </tr>\n",
       "  </tbody>\n",
       "</table>\n",
       "</div>"
      ],
      "text/plain": [
       "        leap_year_condition  decade  decade4  decade100  decade400  \\\n",
       "93803                     0     217        1          1          1   \n",
       "110270                    1     219        1          1          1   \n",
       "15897                     0     205        1          1          1   \n",
       "78831                     0     203        1          1          1   \n",
       "68188                     0     181        1          1          1   \n",
       "\n",
       "        predicted_year_digit  predicted_year  \n",
       "93803                      9            2179  \n",
       "110270                     2            2192  \n",
       "15897                      0            2050  \n",
       "78831                      0            2030  \n",
       "68188                      0            1810  "
      ]
     },
     "execution_count": 5,
     "metadata": {},
     "output_type": "execute_result"
    }
   ],
   "source": [
    "dy = pd.read_csv(\"../data/year_predections.csv\", index_col=0)\n",
    "dy.head()"
   ]
  },
  {
   "cell_type": "code",
   "execution_count": 6,
   "id": "989192b6-57a4-4a3e-8b2c-40a9dc222009",
   "metadata": {},
   "outputs": [
    {
     "data": {
      "text/html": [
       "<div>\n",
       "<style scoped>\n",
       "    .dataframe tbody tr th:only-of-type {\n",
       "        vertical-align: middle;\n",
       "    }\n",
       "\n",
       "    .dataframe tbody tr th {\n",
       "        vertical-align: top;\n",
       "    }\n",
       "\n",
       "    .dataframe thead th {\n",
       "        text-align: right;\n",
       "    }\n",
       "</style>\n",
       "<table border=\"1\" class=\"dataframe\">\n",
       "  <thead>\n",
       "    <tr style=\"text-align: right;\">\n",
       "      <th></th>\n",
       "      <th>weekday_name</th>\n",
       "      <th>month</th>\n",
       "      <th>century</th>\n",
       "      <th>century_year</th>\n",
       "      <th>leap_year_condition</th>\n",
       "      <th>predicted_days_group_index</th>\n",
       "      <th>correct_output</th>\n",
       "    </tr>\n",
       "  </thead>\n",
       "  <tbody>\n",
       "    <tr>\n",
       "      <th>19729</th>\n",
       "      <td>3</td>\n",
       "      <td>2</td>\n",
       "      <td>0</td>\n",
       "      <td>8.0</td>\n",
       "      <td>1</td>\n",
       "      <td>1</td>\n",
       "      <td>4</td>\n",
       "    </tr>\n",
       "    <tr>\n",
       "      <th>18483</th>\n",
       "      <td>5</td>\n",
       "      <td>11</td>\n",
       "      <td>0</td>\n",
       "      <td>3.7</td>\n",
       "      <td>0</td>\n",
       "      <td>8</td>\n",
       "      <td>3</td>\n",
       "    </tr>\n",
       "    <tr>\n",
       "      <th>103614</th>\n",
       "      <td>6</td>\n",
       "      <td>7</td>\n",
       "      <td>1</td>\n",
       "      <td>5.6</td>\n",
       "      <td>1</td>\n",
       "      <td>2</td>\n",
       "      <td>7</td>\n",
       "    </tr>\n",
       "    <tr>\n",
       "      <th>8841</th>\n",
       "      <td>1</td>\n",
       "      <td>11</td>\n",
       "      <td>0</td>\n",
       "      <td>1.9</td>\n",
       "      <td>0</td>\n",
       "      <td>8</td>\n",
       "      <td>8</td>\n",
       "    </tr>\n",
       "    <tr>\n",
       "      <th>97054</th>\n",
       "      <td>5</td>\n",
       "      <td>3</td>\n",
       "      <td>0</td>\n",
       "      <td>1.2</td>\n",
       "      <td>1</td>\n",
       "      <td>9</td>\n",
       "      <td>6</td>\n",
       "    </tr>\n",
       "  </tbody>\n",
       "</table>\n",
       "</div>"
      ],
      "text/plain": [
       "        weekday_name  month  century  century_year  leap_year_condition  \\\n",
       "19729              3      2        0           8.0                    1   \n",
       "18483              5     11        0           3.7                    0   \n",
       "103614             6      7        1           5.6                    1   \n",
       "8841               1     11        0           1.9                    0   \n",
       "97054              5      3        0           1.2                    1   \n",
       "\n",
       "        predicted_days_group_index  correct_output  \n",
       "19729                            1               4  \n",
       "18483                            8               3  \n",
       "103614                           2               7  \n",
       "8841                             8               8  \n",
       "97054                            9               6  "
      ]
     },
     "execution_count": 6,
     "metadata": {},
     "output_type": "execute_result"
    }
   ],
   "source": [
    "dd = pd.read_csv(\"../data/day_predections.csv\", index_col=0)\n",
    "dd.head()"
   ]
  },
  {
   "cell_type": "code",
   "execution_count": 8,
   "id": "c5feba1c-a52c-4ac9-9b01-377373b26391",
   "metadata": {},
   "outputs": [
    {
     "name": "stderr",
     "output_type": "stream",
     "text": [
      "C:\\Users\\huzyfa\\AppData\\Local\\Temp/ipykernel_6108/3071978503.py:3: SettingWithCopyWarning: \n",
      "A value is trying to be set on a copy of a slice from a DataFrame.\n",
      "Try using .loc[row_indexer,col_indexer] = value instead\n",
      "\n",
      "See the caveats in the documentation: https://pandas.pydata.org/pandas-docs/stable/user_guide/indexing.html#returning-a-view-versus-a-copy\n",
      "  df[\"year\"] = dy[\"predicted_year\"].copy()\n"
     ]
    }
   ],
   "source": [
    "# pd.concat([dd, dy])\n",
    "df = dd[[\"weekday_name\", \"month\", \"predicted_days_group_index\"]]\n",
    "df[\"year\"] = dy[\"predicted_year\"].copy()"
   ]
  },
  {
   "cell_type": "code",
   "execution_count": null,
   "id": "2fe4a0ac-85f8-48f4-a942-dbce62de8dc7",
   "metadata": {},
   "outputs": [],
   "source": [
    "df"
   ]
  },
  {
   "cell_type": "code",
   "execution_count": null,
   "id": "89020d84-769a-47c1-89af-afe4efc65699",
   "metadata": {},
   "outputs": [],
   "source": []
  }
 ],
 "metadata": {
  "kernelspec": {
   "display_name": "Python 3 (ipykernel)",
   "language": "python",
   "name": "python3"
  },
  "language_info": {
   "codemirror_mode": {
    "name": "ipython",
    "version": 3
   },
   "file_extension": ".py",
   "mimetype": "text/x-python",
   "name": "python",
   "nbconvert_exporter": "python",
   "pygments_lexer": "ipython3",
   "version": "3.9.7"
  }
 },
 "nbformat": 4,
 "nbformat_minor": 5
}
