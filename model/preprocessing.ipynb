{
 "cells": [
  {
   "cell_type": "code",
   "execution_count": 1,
   "id": "936e62d7-9f27-4cb6-bfd8-b327e0d53c84",
   "metadata": {},
   "outputs": [],
   "source": [
    "# importing libraries\n",
    "import pandas as pd\n",
    "import numpy as np\n",
    "import matplotlib.pyplot as plt\n",
    "import seaborn as sns\n",
    "import calendar\n",
    "%matplotlib inline"
   ]
  },
  {
   "cell_type": "code",
   "execution_count": 2,
   "id": "ff77a283-07b3-4981-9e1c-0602bdf8f44a",
   "metadata": {},
   "outputs": [
    {
     "data": {
      "text/html": [
       "<div>\n",
       "<style scoped>\n",
       "    .dataframe tbody tr th:only-of-type {\n",
       "        vertical-align: middle;\n",
       "    }\n",
       "\n",
       "    .dataframe tbody tr th {\n",
       "        vertical-align: top;\n",
       "    }\n",
       "\n",
       "    .dataframe thead th {\n",
       "        text-align: right;\n",
       "    }\n",
       "</style>\n",
       "<table border=\"1\" class=\"dataframe\">\n",
       "  <thead>\n",
       "    <tr style=\"text-align: right;\">\n",
       "      <th></th>\n",
       "      <th>0</th>\n",
       "    </tr>\n",
       "  </thead>\n",
       "  <tbody>\n",
       "    <tr>\n",
       "      <th>0</th>\n",
       "      <td>[WED] [JAN] [False] [180] 1-1-1800</td>\n",
       "    </tr>\n",
       "    <tr>\n",
       "      <th>1</th>\n",
       "      <td>[THU] [JAN] [False] [180] 1-1-1801</td>\n",
       "    </tr>\n",
       "    <tr>\n",
       "      <th>2</th>\n",
       "      <td>[FRI] [JAN] [False] [180] 1-1-1802</td>\n",
       "    </tr>\n",
       "    <tr>\n",
       "      <th>3</th>\n",
       "      <td>[SAT] [JAN] [False] [180] 1-1-1803</td>\n",
       "    </tr>\n",
       "    <tr>\n",
       "      <th>4</th>\n",
       "      <td>[SUN] [JAN] [True] [180] 1-1-1804</td>\n",
       "    </tr>\n",
       "  </tbody>\n",
       "</table>\n",
       "</div>"
      ],
      "text/plain": [
       "                                    0\n",
       "0  [WED] [JAN] [False] [180] 1-1-1800\n",
       "1  [THU] [JAN] [False] [180] 1-1-1801\n",
       "2  [FRI] [JAN] [False] [180] 1-1-1802\n",
       "3  [SAT] [JAN] [False] [180] 1-1-1803\n",
       "4   [SUN] [JAN] [True] [180] 1-1-1804"
      ]
     },
     "execution_count": 2,
     "metadata": {},
     "output_type": "execute_result"
    }
   ],
   "source": [
    "# read and save the data as dt\n",
    "dt = pd.read_csv(\"../data/data.txt\", header=None)\n",
    "dt.head()"
   ]
  },
  {
   "cell_type": "code",
   "execution_count": 3,
   "id": "d779e3e0-c15e-45e6-911c-00afaa54e818",
   "metadata": {},
   "outputs": [],
   "source": [
    "month_dict = {\"[JAN]\": 1,\n",
    "              \"[FEB]\": 2,\n",
    "              \"[MAR]\": 3,\n",
    "              \"[APR]\": 4,\n",
    "              \"[MAY]\": 5,\n",
    "              \"[JUN]\": 6,\n",
    "              \"[JUL]\": 7,\n",
    "              \"[AUG]\": 8,\n",
    "              \"[SEP]\": 9,\n",
    "              \"[OCT]\": 10,\n",
    "              \"[NOV]\": 11,\n",
    "              \"[DEC]\": 12}\n",
    "\n",
    "weekday_dict = {\"[MON]\": 0,\n",
    "                \"[TUE]\": 1,\n",
    "                \"[WED]\": 2,\n",
    "                \"[THU]\": 3,\n",
    "                \"[FRI]\": 4,\n",
    "                \"[SAT]\": 5,\n",
    "                \"[SUN]\": 6}\n",
    "\n",
    "\n",
    "def days_valid(year, month, day):\n",
    "    return [dat[2] for dat in list(calendar.Calendar(firstweekday=0).itermonthdays4(year, month)) if ((dat[1]==month) and (dat[3]==day))]\n",
    "\n",
    "def valid_year_day_(df):\n",
    "    '''this function is to return the valid years as dictionary keys and the coresponding valid days list for each valid year'''\n",
    "    \n",
    "    valid_year_day = []\n",
    "    for row in range(df.shape[0]):\n",
    "        decade = df.iloc[row, 3]\n",
    "        month = df.iloc[row, 1]\n",
    "        day = df.iloc[row, 0]\n",
    "        leap_dict = {}\n",
    "        # logic in case leap_year_condition True########################################  \n",
    "        if df.iloc[row, 2]==1:\n",
    "            for i in range(10):\n",
    "                year = decade*10+i\n",
    "                if year%4==0:\n",
    "                    if year%100==0:\n",
    "                        if year%400==0:\n",
    "                            leap_dict[i] = days_valid(year, month, day)\n",
    "                    else: \n",
    "                        leap_dict[i] = days_valid(year, month, day)\n",
    "        \n",
    "        # logic in case leap_year_condition False#######################################\n",
    "        else:\n",
    "            for i in range(10):\n",
    "                year = decade*10+i\n",
    "                if year%4==0:\n",
    "                    if year%100==0:\n",
    "                        if year%400!=0:\n",
    "                            leap_dict[i] = days_valid(year, month, day)\n",
    "                else: \n",
    "                    leap_dict[i] = days_valid(year, month, day)\n",
    "        valid_year_day += [leap_dict]\n",
    "            # [leap(df.loc[i, \"decade\"]) if df.loc[i, \"leap_year_condition\"]==1 else {j:days_valid(year, month, day) for j in list(range(10)) if j not in leap(df.loc[i, \"decade\"])}  for i in range(df.shape[0])]\n",
    "    return valid_year_day\n",
    "\n",
    "# df = pd.get_dummies(df, columns=[\"weekday_name\"], prefix=\"weekday\")\n",
    "# df[\"leap_years\"] = [leap(row.split()[3].strip(\"[]\")) for row in dt[0]]\n",
    "# df[\"days\"] = [[i if .weekday()==weekday_dict[row.split()[0]] for i in range(1,calendar.monthrange(year, month)[1])] for row in dt[0]]\n",
    "# calendar.monthrange(year, month)[1]"
   ]
  },
  {
   "cell_type": "code",
   "execution_count": 4,
   "id": "7f7fa03b-9700-4cc2-ab81-dbc2a7fb4ede",
   "metadata": {
    "tags": []
   },
   "outputs": [
    {
     "data": {
      "text/html": [
       "<div>\n",
       "<style scoped>\n",
       "    .dataframe tbody tr th:only-of-type {\n",
       "        vertical-align: middle;\n",
       "    }\n",
       "\n",
       "    .dataframe tbody tr th {\n",
       "        vertical-align: top;\n",
       "    }\n",
       "\n",
       "    .dataframe thead th {\n",
       "        text-align: right;\n",
       "    }\n",
       "</style>\n",
       "<table border=\"1\" class=\"dataframe\">\n",
       "  <thead>\n",
       "    <tr style=\"text-align: right;\">\n",
       "      <th></th>\n",
       "      <th>weekday_name</th>\n",
       "      <th>month</th>\n",
       "      <th>leap_year_condition</th>\n",
       "      <th>decade</th>\n",
       "      <th>output</th>\n",
       "      <th>output_year_digit</th>\n",
       "      <th>output_year</th>\n",
       "      <th>output_day</th>\n",
       "      <th>valid_years_days_dict</th>\n",
       "      <th>valid_years_list</th>\n",
       "      <th>valid_day_list</th>\n",
       "    </tr>\n",
       "  </thead>\n",
       "  <tbody>\n",
       "    <tr>\n",
       "      <th>0</th>\n",
       "      <td>2</td>\n",
       "      <td>1</td>\n",
       "      <td>0</td>\n",
       "      <td>180</td>\n",
       "      <td>1-1-1800</td>\n",
       "      <td>0</td>\n",
       "      <td>1800</td>\n",
       "      <td>1</td>\n",
       "      <td>{0: [1, 8, 15, 22, 29], 1: [7, 14, 21, 28], 2:...</td>\n",
       "      <td>[0, 1, 2, 3, 5, 6, 7, 9]</td>\n",
       "      <td>[1, 8, 15, 22, 29]</td>\n",
       "    </tr>\n",
       "    <tr>\n",
       "      <th>1</th>\n",
       "      <td>3</td>\n",
       "      <td>1</td>\n",
       "      <td>0</td>\n",
       "      <td>180</td>\n",
       "      <td>1-1-1801</td>\n",
       "      <td>1</td>\n",
       "      <td>1801</td>\n",
       "      <td>1</td>\n",
       "      <td>{0: [2, 9, 16, 23, 30], 1: [1, 8, 15, 22, 29],...</td>\n",
       "      <td>[0, 1, 2, 3, 5, 6, 7, 9]</td>\n",
       "      <td>[1, 8, 15, 22, 29]</td>\n",
       "    </tr>\n",
       "    <tr>\n",
       "      <th>2</th>\n",
       "      <td>4</td>\n",
       "      <td>1</td>\n",
       "      <td>0</td>\n",
       "      <td>180</td>\n",
       "      <td>1-1-1802</td>\n",
       "      <td>2</td>\n",
       "      <td>1802</td>\n",
       "      <td>1</td>\n",
       "      <td>{0: [3, 10, 17, 24, 31], 1: [2, 9, 16, 23, 30]...</td>\n",
       "      <td>[0, 1, 2, 3, 5, 6, 7, 9]</td>\n",
       "      <td>[1, 8, 15, 22, 29]</td>\n",
       "    </tr>\n",
       "    <tr>\n",
       "      <th>3</th>\n",
       "      <td>5</td>\n",
       "      <td>1</td>\n",
       "      <td>0</td>\n",
       "      <td>180</td>\n",
       "      <td>1-1-1803</td>\n",
       "      <td>3</td>\n",
       "      <td>1803</td>\n",
       "      <td>1</td>\n",
       "      <td>{0: [4, 11, 18, 25], 1: [3, 10, 17, 24, 31], 2...</td>\n",
       "      <td>[0, 1, 2, 3, 5, 6, 7, 9]</td>\n",
       "      <td>[1, 8, 15, 22, 29]</td>\n",
       "    </tr>\n",
       "    <tr>\n",
       "      <th>4</th>\n",
       "      <td>6</td>\n",
       "      <td>1</td>\n",
       "      <td>1</td>\n",
       "      <td>180</td>\n",
       "      <td>1-1-1804</td>\n",
       "      <td>4</td>\n",
       "      <td>1804</td>\n",
       "      <td>1</td>\n",
       "      <td>{4: [1, 8, 15, 22, 29], 8: [3, 10, 17, 24, 31]}</td>\n",
       "      <td>[4, 8, 4, 4, 4, 4, 4, 4]</td>\n",
       "      <td>[1, 8, 15, 22, 29]</td>\n",
       "    </tr>\n",
       "    <tr>\n",
       "      <th>5</th>\n",
       "      <td>1</td>\n",
       "      <td>1</td>\n",
       "      <td>0</td>\n",
       "      <td>180</td>\n",
       "      <td>1-1-1805</td>\n",
       "      <td>5</td>\n",
       "      <td>1805</td>\n",
       "      <td>1</td>\n",
       "      <td>{0: [7, 14, 21, 28], 1: [6, 13, 20, 27], 2: [5...</td>\n",
       "      <td>[0, 1, 2, 3, 5, 6, 7, 9]</td>\n",
       "      <td>[1, 8, 15, 22, 29]</td>\n",
       "    </tr>\n",
       "    <tr>\n",
       "      <th>6</th>\n",
       "      <td>2</td>\n",
       "      <td>1</td>\n",
       "      <td>0</td>\n",
       "      <td>180</td>\n",
       "      <td>1-1-1806</td>\n",
       "      <td>6</td>\n",
       "      <td>1806</td>\n",
       "      <td>1</td>\n",
       "      <td>{0: [1, 8, 15, 22, 29], 1: [7, 14, 21, 28], 2:...</td>\n",
       "      <td>[0, 1, 2, 3, 5, 6, 7, 9]</td>\n",
       "      <td>[1, 8, 15, 22, 29]</td>\n",
       "    </tr>\n",
       "  </tbody>\n",
       "</table>\n",
       "</div>"
      ],
      "text/plain": [
       "   weekday_name  month  leap_year_condition  decade    output  \\\n",
       "0             2      1                    0     180  1-1-1800   \n",
       "1             3      1                    0     180  1-1-1801   \n",
       "2             4      1                    0     180  1-1-1802   \n",
       "3             5      1                    0     180  1-1-1803   \n",
       "4             6      1                    1     180  1-1-1804   \n",
       "5             1      1                    0     180  1-1-1805   \n",
       "6             2      1                    0     180  1-1-1806   \n",
       "\n",
       "   output_year_digit  output_year  output_day  \\\n",
       "0                  0         1800           1   \n",
       "1                  1         1801           1   \n",
       "2                  2         1802           1   \n",
       "3                  3         1803           1   \n",
       "4                  4         1804           1   \n",
       "5                  5         1805           1   \n",
       "6                  6         1806           1   \n",
       "\n",
       "                               valid_years_days_dict  \\\n",
       "0  {0: [1, 8, 15, 22, 29], 1: [7, 14, 21, 28], 2:...   \n",
       "1  {0: [2, 9, 16, 23, 30], 1: [1, 8, 15, 22, 29],...   \n",
       "2  {0: [3, 10, 17, 24, 31], 1: [2, 9, 16, 23, 30]...   \n",
       "3  {0: [4, 11, 18, 25], 1: [3, 10, 17, 24, 31], 2...   \n",
       "4    {4: [1, 8, 15, 22, 29], 8: [3, 10, 17, 24, 31]}   \n",
       "5  {0: [7, 14, 21, 28], 1: [6, 13, 20, 27], 2: [5...   \n",
       "6  {0: [1, 8, 15, 22, 29], 1: [7, 14, 21, 28], 2:...   \n",
       "\n",
       "           valid_years_list      valid_day_list  \n",
       "0  [0, 1, 2, 3, 5, 6, 7, 9]  [1, 8, 15, 22, 29]  \n",
       "1  [0, 1, 2, 3, 5, 6, 7, 9]  [1, 8, 15, 22, 29]  \n",
       "2  [0, 1, 2, 3, 5, 6, 7, 9]  [1, 8, 15, 22, 29]  \n",
       "3  [0, 1, 2, 3, 5, 6, 7, 9]  [1, 8, 15, 22, 29]  \n",
       "4  [4, 8, 4, 4, 4, 4, 4, 4]  [1, 8, 15, 22, 29]  \n",
       "5  [0, 1, 2, 3, 5, 6, 7, 9]  [1, 8, 15, 22, 29]  \n",
       "6  [0, 1, 2, 3, 5, 6, 7, 9]  [1, 8, 15, 22, 29]  "
      ]
     },
     "execution_count": 4,
     "metadata": {},
     "output_type": "execute_result"
    }
   ],
   "source": [
    "# splitting every line to columns and modify some columns shape\n",
    "df = pd.DataFrame()\n",
    "# df[\"weekday_name\"] = [weekday_dict[row.split()[0]] for row in dt[0]]\n",
    "df[\"weekday_name\"] = [weekday_dict[row.split()[0]] for row in dt[0]]\n",
    "df[\"month\"] = [month_dict[row.split()[1]] for row in dt[0]]\n",
    "df[\"leap_year_condition\"] = [0 if row.split()[2]==\"[False]\" else 1 for row in dt[0]]\n",
    "df[\"decade\"] = [int(row.split()[3].strip(\"[]\")) for row in dt[0]]\n",
    "df[\"output\"] = [row.split()[4].strip(\"[]\") for row in dt[0]]\n",
    "df[\"output_year_digit\"] = [int(row.split()[4].strip(\"[]\")[-1]) for row in dt[0]]\n",
    "df[\"output_year\"] = [int(row.split()[4].strip(\"[]\")[-4:]) for row in dt[0]]\n",
    "df[\"output_day\"] = [int(row.split()[4].strip(\"[]\")[0]) for row in dt[0]]\n",
    "df[\"valid_years_days_dict\"] = valid_year_day_(df)\n",
    "df[\"valid_years_list\"] = [i+[*[i[0]]*(8-len(i))]for i in [list(item.keys())for item in df[\"valid_years_days_dict\"]]]\n",
    "df[\"valid_day_list\"] = [dic[key] for dic, key in zip(df[\"valid_years_days_dict\"], df[\"output_year_digit\"])]\n",
    "df.head(7)"
   ]
  },
  {
   "cell_type": "markdown",
   "id": "df58be86-d3f2-48b2-817c-438fcd0ba497",
   "metadata": {},
   "source": [
    "**Exploratory Data Analysis**"
   ]
  },
  {
   "cell_type": "markdown",
   "id": "979e633d-8d05-4c3f-a8bf-43bbe06d5c68",
   "metadata": {},
   "source": [
    "- **the data is already normalized**"
   ]
  },
  {
   "cell_type": "code",
   "execution_count": 5,
   "id": "1375cdad-46af-45d2-a2ca-6241fa1085e1",
   "metadata": {},
   "outputs": [
    {
     "data": {
      "text/plain": [
       "weekday_name             0\n",
       "month                    0\n",
       "leap_year_condition      0\n",
       "decade                   0\n",
       "output                   0\n",
       "output_year_digit        0\n",
       "output_year              0\n",
       "output_day               0\n",
       "valid_years_days_dict    0\n",
       "valid_years_list         0\n",
       "valid_day_list           0\n",
       "dtype: int64"
      ]
     },
     "execution_count": 5,
     "metadata": {},
     "output_type": "execute_result"
    }
   ],
   "source": [
    "df.isna().sum()"
   ]
  },
  {
   "cell_type": "markdown",
   "id": "31826db6-c4e4-4b38-8601-6db4f24909b6",
   "metadata": {},
   "source": [
    "- **there is no null values to impute**"
   ]
  },
  {
   "cell_type": "code",
   "execution_count": 6,
   "id": "2c159c86-3d4b-4ee9-888f-26c4a20fb4e2",
   "metadata": {},
   "outputs": [
    {
     "data": {
      "text/plain": [
       "weekday_name              int64\n",
       "month                     int64\n",
       "leap_year_condition       int64\n",
       "decade                    int64\n",
       "output                   object\n",
       "output_year_digit         int64\n",
       "output_year               int64\n",
       "output_day                int64\n",
       "valid_years_days_dict    object\n",
       "valid_years_list         object\n",
       "valid_day_list           object\n",
       "dtype: object"
      ]
     },
     "execution_count": 6,
     "metadata": {},
     "output_type": "execute_result"
    }
   ],
   "source": [
    "df.dtypes"
   ]
  },
  {
   "cell_type": "code",
   "execution_count": 7,
   "id": "b345c886-b7a1-4f90-84a7-c6bfd9b64d5c",
   "metadata": {},
   "outputs": [
    {
     "data": {
      "text/plain": [
       "(146462, 11)"
      ]
     },
     "execution_count": 7,
     "metadata": {},
     "output_type": "execute_result"
    }
   ],
   "source": [
    "df.shape"
   ]
  },
  {
   "cell_type": "code",
   "execution_count": 8,
   "id": "bcda26a8-44b6-4590-82ac-22ef48336e54",
   "metadata": {},
   "outputs": [
    {
     "name": "stdout",
     "output_type": "stream",
     "text": [
      "<class 'pandas.core.frame.DataFrame'>\n",
      "RangeIndex: 146462 entries, 0 to 146461\n",
      "Data columns (total 11 columns):\n",
      " #   Column                 Non-Null Count   Dtype \n",
      "---  ------                 --------------   ----- \n",
      " 0   weekday_name           146462 non-null  int64 \n",
      " 1   month                  146462 non-null  int64 \n",
      " 2   leap_year_condition    146462 non-null  int64 \n",
      " 3   decade                 146462 non-null  int64 \n",
      " 4   output                 146462 non-null  object\n",
      " 5   output_year_digit      146462 non-null  int64 \n",
      " 6   output_year            146462 non-null  int64 \n",
      " 7   output_day             146462 non-null  int64 \n",
      " 8   valid_years_days_dict  146462 non-null  object\n",
      " 9   valid_years_list       146462 non-null  object\n",
      " 10  valid_day_list         146462 non-null  object\n",
      "dtypes: int64(7), object(4)\n",
      "memory usage: 12.3+ MB\n"
     ]
    }
   ],
   "source": [
    "df.info()"
   ]
  },
  {
   "cell_type": "code",
   "execution_count": 9,
   "id": "467c0300-e87b-4dd8-ab95-ab588a1d9513",
   "metadata": {},
   "outputs": [
    {
     "data": {
      "text/html": [
       "<div>\n",
       "<style scoped>\n",
       "    .dataframe tbody tr th:only-of-type {\n",
       "        vertical-align: middle;\n",
       "    }\n",
       "\n",
       "    .dataframe tbody tr th {\n",
       "        vertical-align: top;\n",
       "    }\n",
       "\n",
       "    .dataframe thead th {\n",
       "        text-align: right;\n",
       "    }\n",
       "</style>\n",
       "<table border=\"1\" class=\"dataframe\">\n",
       "  <thead>\n",
       "    <tr style=\"text-align: right;\">\n",
       "      <th></th>\n",
       "      <th>weekday_name</th>\n",
       "      <th>month</th>\n",
       "      <th>leap_year_condition</th>\n",
       "      <th>decade</th>\n",
       "      <th>output_year_digit</th>\n",
       "      <th>output_year</th>\n",
       "      <th>output_day</th>\n",
       "    </tr>\n",
       "  </thead>\n",
       "  <tbody>\n",
       "    <tr>\n",
       "      <th>count</th>\n",
       "      <td>146462.000000</td>\n",
       "      <td>146462.000000</td>\n",
       "      <td>146462.000000</td>\n",
       "      <td>146462.000000</td>\n",
       "      <td>146462.000000</td>\n",
       "      <td>146462.000000</td>\n",
       "      <td>146462.000000</td>\n",
       "    </tr>\n",
       "    <tr>\n",
       "      <th>mean</th>\n",
       "      <td>2.999993</td>\n",
       "      <td>6.523030</td>\n",
       "      <td>0.242397</td>\n",
       "      <td>199.551146</td>\n",
       "      <td>4.488536</td>\n",
       "      <td>2000.000000</td>\n",
       "      <td>2.607816</td>\n",
       "    </tr>\n",
       "    <tr>\n",
       "      <th>std</th>\n",
       "      <td>2.000002</td>\n",
       "      <td>3.448687</td>\n",
       "      <td>0.428535</td>\n",
       "      <td>11.574208</td>\n",
       "      <td>2.877427</td>\n",
       "      <td>115.757992</td>\n",
       "      <td>2.154291</td>\n",
       "    </tr>\n",
       "    <tr>\n",
       "      <th>min</th>\n",
       "      <td>0.000000</td>\n",
       "      <td>1.000000</td>\n",
       "      <td>0.000000</td>\n",
       "      <td>180.000000</td>\n",
       "      <td>0.000000</td>\n",
       "      <td>1800.000000</td>\n",
       "      <td>1.000000</td>\n",
       "    </tr>\n",
       "    <tr>\n",
       "      <th>25%</th>\n",
       "      <td>1.000000</td>\n",
       "      <td>4.000000</td>\n",
       "      <td>0.000000</td>\n",
       "      <td>190.000000</td>\n",
       "      <td>2.000000</td>\n",
       "      <td>1900.000000</td>\n",
       "      <td>1.000000</td>\n",
       "    </tr>\n",
       "    <tr>\n",
       "      <th>50%</th>\n",
       "      <td>3.000000</td>\n",
       "      <td>7.000000</td>\n",
       "      <td>0.000000</td>\n",
       "      <td>200.000000</td>\n",
       "      <td>4.000000</td>\n",
       "      <td>2000.000000</td>\n",
       "      <td>2.000000</td>\n",
       "    </tr>\n",
       "    <tr>\n",
       "      <th>75%</th>\n",
       "      <td>5.000000</td>\n",
       "      <td>10.000000</td>\n",
       "      <td>0.000000</td>\n",
       "      <td>210.000000</td>\n",
       "      <td>7.000000</td>\n",
       "      <td>2100.000000</td>\n",
       "      <td>3.000000</td>\n",
       "    </tr>\n",
       "    <tr>\n",
       "      <th>max</th>\n",
       "      <td>6.000000</td>\n",
       "      <td>12.000000</td>\n",
       "      <td>1.000000</td>\n",
       "      <td>220.000000</td>\n",
       "      <td>9.000000</td>\n",
       "      <td>2200.000000</td>\n",
       "      <td>9.000000</td>\n",
       "    </tr>\n",
       "  </tbody>\n",
       "</table>\n",
       "</div>"
      ],
      "text/plain": [
       "        weekday_name          month  leap_year_condition         decade  \\\n",
       "count  146462.000000  146462.000000        146462.000000  146462.000000   \n",
       "mean        2.999993       6.523030             0.242397     199.551146   \n",
       "std         2.000002       3.448687             0.428535      11.574208   \n",
       "min         0.000000       1.000000             0.000000     180.000000   \n",
       "25%         1.000000       4.000000             0.000000     190.000000   \n",
       "50%         3.000000       7.000000             0.000000     200.000000   \n",
       "75%         5.000000      10.000000             0.000000     210.000000   \n",
       "max         6.000000      12.000000             1.000000     220.000000   \n",
       "\n",
       "       output_year_digit    output_year     output_day  \n",
       "count      146462.000000  146462.000000  146462.000000  \n",
       "mean            4.488536    2000.000000       2.607816  \n",
       "std             2.877427     115.757992       2.154291  \n",
       "min             0.000000    1800.000000       1.000000  \n",
       "25%             2.000000    1900.000000       1.000000  \n",
       "50%             4.000000    2000.000000       2.000000  \n",
       "75%             7.000000    2100.000000       3.000000  \n",
       "max             9.000000    2200.000000       9.000000  "
      ]
     },
     "execution_count": 9,
     "metadata": {},
     "output_type": "execute_result"
    }
   ],
   "source": [
    "df.describe()"
   ]
  },
  {
   "cell_type": "code",
   "execution_count": 10,
   "id": "1f74a63f-2d19-4e65-8475-ffa475381c81",
   "metadata": {},
   "outputs": [
    {
     "data": {
      "text/plain": [
       "[1, 2, 3, 4, 5, 6, 7, 8, 9, 10, 11, 12]"
      ]
     },
     "execution_count": 10,
     "metadata": {},
     "output_type": "execute_result"
    },
    {
     "data": {
      "image/png": "[encoded data removed]",
      "text/plain": [
       "<Figure size 432x288 with 1 Axes>"
      ]
     },
     "metadata": {
      "needs_background": "light"
     },
     "output_type": "display_data"
    }
   ],
   "source": [
    "plt.bar(df.month.value_counts().index, df.month.value_counts())\n",
    "plt.xlabel(\"months\")\n",
    "plt.xticks(list(range(1, 13)))\n",
    "list(range(1, 13))"
   ]
  },
  {
   "cell_type": "markdown",
   "id": "943a1a51-9ea0-4c3e-8ba1-7845d9cda867",
   "metadata": {},
   "source": [
    "**the months distribution is balanced**"
   ]
  },
  {
   "cell_type": "code",
   "execution_count": 11,
   "id": "3a3a1314-3642-4aaa-9b58-d0cd4c34bea0",
   "metadata": {},
   "outputs": [
    {
     "data": {
      "image/png": "[encoded data removed]",
      "text/plain": [
       "<Figure size 1440x480 with 1 Axes>"
      ]
     },
     "metadata": {
      "needs_background": "light"
     },
     "output_type": "display_data"
    }
   ],
   "source": [
    "from matplotlib.pyplot import figure #https://stackoverflow.com/questions/332289/how-do-i-change-the-size-of-figures-drawn-with-matplotlib\n",
    "figure(figsize=(18, 6), dpi=80)\n",
    "plt.bar(df.decade.value_counts().index, df.decade.value_counts())\n",
    "plt.xlabel(\"decades\")\n",
    "plt.show()\n",
    "# plt.xticks((df.decade.nunique()))"
   ]
  },
  {
   "cell_type": "markdown",
   "id": "752a4a6a-49c1-4306-bed6-8425bbf31962",
   "metadata": {},
   "source": [
    "**data of decades is ideally balanced except for \"220\" decade**"
   ]
  },
  {
   "cell_type": "code",
   "execution_count": 12,
   "id": "c0787190-4476-4052-a3f7-3157339b0882",
   "metadata": {},
   "outputs": [
    {
     "data": {
      "image/png": "[encoded data removed]",
      "text/plain": [
       "<Figure size 432x288 with 1 Axes>"
      ]
     },
     "metadata": {
      "needs_background": "light"
     },
     "output_type": "display_data"
    }
   ],
   "source": [
    "plt.bar(df.weekday_name.value_counts().index, df.weekday_name.value_counts())\n",
    "plt.xlabel(\"week days\")\n",
    "plt.show()"
   ]
  },
  {
   "cell_type": "markdown",
   "id": "a6e3ae50-e034-4aac-a280-7c55f057b833",
   "metadata": {},
   "source": [
    "**also the weekdays distribution is ideally balanced**"
   ]
  },
  {
   "cell_type": "code",
   "execution_count": 13,
   "id": "b1918488-3fb6-4c03-b1da-29e1c6729847",
   "metadata": {},
   "outputs": [
    {
     "data": {
      "image/png": "[encoded data removed]",
      "text/plain": [
       "<Figure size 432x288 with 1 Axes>"
      ]
     },
     "metadata": {},
     "output_type": "display_data"
    }
   ],
   "source": [
    "plt.pie(df[\"leap_year_condition\"].value_counts(), labels=df[\"leap_year_condition\"].value_counts().index)\n",
    "plt.show()"
   ]
  },
  {
   "cell_type": "markdown",
   "id": "0c146bf3-acd0-455b-9464-35d16567ced7",
   "metadata": {},
   "source": [
    "**also non leap years is three times number of leap years**"
   ]
  },
  {
   "cell_type": "code",
   "execution_count": 14,
   "id": "73c3217f-a118-442b-903b-1b2e67dfe62c",
   "metadata": {},
   "outputs": [],
   "source": [
    "df.to_csv(\"../data/data.csv\", header=True, index=False)"
   ]
  },
  {
   "cell_type": "code",
   "execution_count": null,
   "id": "ba453982-0e69-42f3-84cc-9b41437d6ba5",
   "metadata": {},
   "outputs": [],
   "source": []
  }
 ],
 "metadata": {
  "kernelspec": {
   "display_name": "Python 3 (ipykernel)",
   "language": "python",
   "name": "python3"
  },
  "language_info": {
   "codemirror_mode": {
    "name": "ipython",
    "version": 3
   },
   "file_extension": ".py",
   "mimetype": "text/x-python",
   "name": "python",
   "nbconvert_exporter": "python",
   "pygments_lexer": "ipython3",
   "version": "3.9.7"
  }
 },
 "nbformat": 4,
 "nbformat_minor": 5
}
