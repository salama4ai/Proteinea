{
 "cells": [
  {
   "cell_type": "code",
   "execution_count": 1,
   "id": "5e363d37-64ad-465d-ac56-e4f08a685128",
   "metadata": {},
   "outputs": [],
   "source": [
    "import numpy as np\n",
    "import torch\n",
    "import torch.nn as nn\n",
    "import torch.nn.functional as F\n",
    "import pandas as pd\n",
    "from sklearn.model_selection import train_test_split\n",
    "import random\n",
    "import time    \n",
    "from tqdm import tqdm\n",
    "from torch.utils.data import Dataset, DataLoader, TensorDataset\n",
    "import matplotlib.pyplot as plt"
   ]
  },
  {
   "cell_type": "code",
   "execution_count": 2,
   "id": "da2981b9-9a12-4d28-8407-4750ea107db2",
   "metadata": {},
   "outputs": [
    {
     "name": "stdout",
     "output_type": "stream",
     "text": [
      "Torch version= 1.12.1+cu116,\n",
      "Cuda version=11.6\n"
     ]
    }
   ],
   "source": [
    "print(f\"Torch version= {torch.__version__},\\nCuda version={torch.version.cuda}\")"
   ]
  },
  {
   "cell_type": "code",
   "execution_count": 3,
   "id": "7b8f11e5-80b6-4aa4-ab60-19329c4df5e5",
   "metadata": {},
   "outputs": [
    {
     "data": {
      "text/html": [
       "<div>\n",
       "<style scoped>\n",
       "    .dataframe tbody tr th:only-of-type {\n",
       "        vertical-align: middle;\n",
       "    }\n",
       "\n",
       "    .dataframe tbody tr th {\n",
       "        vertical-align: top;\n",
       "    }\n",
       "\n",
       "    .dataframe thead th {\n",
       "        text-align: right;\n",
       "    }\n",
       "</style>\n",
       "<table border=\"1\" class=\"dataframe\">\n",
       "  <thead>\n",
       "    <tr style=\"text-align: right;\">\n",
       "      <th></th>\n",
       "      <th>weekday_name</th>\n",
       "      <th>month</th>\n",
       "      <th>leap_year_condition</th>\n",
       "      <th>decade</th>\n",
       "      <th>output</th>\n",
       "      <th>output_year_digit</th>\n",
       "      <th>output_year</th>\n",
       "      <th>valid_years_days_dict</th>\n",
       "      <th>valid_years_list</th>\n",
       "      <th>valid_day_list</th>\n",
       "      <th>decade4</th>\n",
       "      <th>valid_group_days_index</th>\n",
       "      <th>century_code</th>\n",
       "      <th>month_code</th>\n",
       "      <th>year_code</th>\n",
       "    </tr>\n",
       "    <tr>\n",
       "      <th>index</th>\n",
       "      <th></th>\n",
       "      <th></th>\n",
       "      <th></th>\n",
       "      <th></th>\n",
       "      <th></th>\n",
       "      <th></th>\n",
       "      <th></th>\n",
       "      <th></th>\n",
       "      <th></th>\n",
       "      <th></th>\n",
       "      <th></th>\n",
       "      <th></th>\n",
       "      <th></th>\n",
       "      <th></th>\n",
       "      <th></th>\n",
       "    </tr>\n",
       "  </thead>\n",
       "  <tbody>\n",
       "    <tr>\n",
       "      <th>0</th>\n",
       "      <td>2</td>\n",
       "      <td>1</td>\n",
       "      <td>0</td>\n",
       "      <td>180</td>\n",
       "      <td>1-1-1800</td>\n",
       "      <td>0</td>\n",
       "      <td>1800</td>\n",
       "      <td>{0: [1, 8, 15, 22, 29], 1: [7, 14, 21, 28], 2:...</td>\n",
       "      <td>[0, 1, 2, 3, 5, 6, 7, 9]</td>\n",
       "      <td>[1, 8, 15, 22, 29]</td>\n",
       "      <td>0</td>\n",
       "      <td>7</td>\n",
       "      <td>2</td>\n",
       "      <td>0</td>\n",
       "      <td>0</td>\n",
       "    </tr>\n",
       "    <tr>\n",
       "      <th>1</th>\n",
       "      <td>3</td>\n",
       "      <td>1</td>\n",
       "      <td>0</td>\n",
       "      <td>180</td>\n",
       "      <td>1-1-1801</td>\n",
       "      <td>1</td>\n",
       "      <td>1801</td>\n",
       "      <td>{0: [2, 9, 16, 23, 30], 1: [1, 8, 15, 22, 29],...</td>\n",
       "      <td>[0, 1, 2, 3, 5, 6, 7, 9]</td>\n",
       "      <td>[1, 8, 15, 22, 29]</td>\n",
       "      <td>0</td>\n",
       "      <td>7</td>\n",
       "      <td>2</td>\n",
       "      <td>0</td>\n",
       "      <td>1</td>\n",
       "    </tr>\n",
       "    <tr>\n",
       "      <th>2</th>\n",
       "      <td>4</td>\n",
       "      <td>1</td>\n",
       "      <td>0</td>\n",
       "      <td>180</td>\n",
       "      <td>1-1-1802</td>\n",
       "      <td>2</td>\n",
       "      <td>1802</td>\n",
       "      <td>{0: [3, 10, 17, 24, 31], 1: [2, 9, 16, 23, 30]...</td>\n",
       "      <td>[0, 1, 2, 3, 5, 6, 7, 9]</td>\n",
       "      <td>[1, 8, 15, 22, 29]</td>\n",
       "      <td>0</td>\n",
       "      <td>7</td>\n",
       "      <td>2</td>\n",
       "      <td>0</td>\n",
       "      <td>2</td>\n",
       "    </tr>\n",
       "    <tr>\n",
       "      <th>3</th>\n",
       "      <td>5</td>\n",
       "      <td>1</td>\n",
       "      <td>0</td>\n",
       "      <td>180</td>\n",
       "      <td>1-1-1803</td>\n",
       "      <td>3</td>\n",
       "      <td>1803</td>\n",
       "      <td>{0: [4, 11, 18, 25], 1: [3, 10, 17, 24, 31], 2...</td>\n",
       "      <td>[0, 1, 2, 3, 5, 6, 7, 9]</td>\n",
       "      <td>[1, 8, 15, 22, 29]</td>\n",
       "      <td>0</td>\n",
       "      <td>7</td>\n",
       "      <td>2</td>\n",
       "      <td>0</td>\n",
       "      <td>3</td>\n",
       "    </tr>\n",
       "    <tr>\n",
       "      <th>4</th>\n",
       "      <td>6</td>\n",
       "      <td>1</td>\n",
       "      <td>1</td>\n",
       "      <td>180</td>\n",
       "      <td>1-1-1804</td>\n",
       "      <td>4</td>\n",
       "      <td>1804</td>\n",
       "      <td>{4: [1, 8, 15, 22, 29], 8: [3, 10, 17, 24, 31]}</td>\n",
       "      <td>[4, 8, 4, 4, 4, 4, 4, 4]</td>\n",
       "      <td>[1, 8, 15, 22, 29]</td>\n",
       "      <td>0</td>\n",
       "      <td>7</td>\n",
       "      <td>2</td>\n",
       "      <td>0</td>\n",
       "      <td>5</td>\n",
       "    </tr>\n",
       "  </tbody>\n",
       "</table>\n",
       "</div>"
      ],
      "text/plain": [
       "       weekday_name  month  leap_year_condition  decade    output  \\\n",
       "index                                                               \n",
       "0                 2      1                    0     180  1-1-1800   \n",
       "1                 3      1                    0     180  1-1-1801   \n",
       "2                 4      1                    0     180  1-1-1802   \n",
       "3                 5      1                    0     180  1-1-1803   \n",
       "4                 6      1                    1     180  1-1-1804   \n",
       "\n",
       "       output_year_digit  output_year  \\\n",
       "index                                   \n",
       "0                      0         1800   \n",
       "1                      1         1801   \n",
       "2                      2         1802   \n",
       "3                      3         1803   \n",
       "4                      4         1804   \n",
       "\n",
       "                                   valid_years_days_dict  \\\n",
       "index                                                      \n",
       "0      {0: [1, 8, 15, 22, 29], 1: [7, 14, 21, 28], 2:...   \n",
       "1      {0: [2, 9, 16, 23, 30], 1: [1, 8, 15, 22, 29],...   \n",
       "2      {0: [3, 10, 17, 24, 31], 1: [2, 9, 16, 23, 30]...   \n",
       "3      {0: [4, 11, 18, 25], 1: [3, 10, 17, 24, 31], 2...   \n",
       "4        {4: [1, 8, 15, 22, 29], 8: [3, 10, 17, 24, 31]}   \n",
       "\n",
       "               valid_years_list      valid_day_list  decade4  \\\n",
       "index                                                          \n",
       "0      [0, 1, 2, 3, 5, 6, 7, 9]  [1, 8, 15, 22, 29]        0   \n",
       "1      [0, 1, 2, 3, 5, 6, 7, 9]  [1, 8, 15, 22, 29]        0   \n",
       "2      [0, 1, 2, 3, 5, 6, 7, 9]  [1, 8, 15, 22, 29]        0   \n",
       "3      [0, 1, 2, 3, 5, 6, 7, 9]  [1, 8, 15, 22, 29]        0   \n",
       "4      [4, 8, 4, 4, 4, 4, 4, 4]  [1, 8, 15, 22, 29]        0   \n",
       "\n",
       "       valid_group_days_index  century_code  month_code  year_code  \n",
       "index                                                               \n",
       "0                           7             2           0          0  \n",
       "1                           7             2           0          1  \n",
       "2                           7             2           0          2  \n",
       "3                           7             2           0          3  \n",
       "4                           7             2           0          5  "
      ]
     },
     "execution_count": 3,
     "metadata": {},
     "output_type": "execute_result"
    }
   ],
   "source": [
    "df = pd.read_csv(\"../data/data.csv\", index_col=\"index\", converters={#'valid_years_days_dict': eval, \n",
    "                                                 'valid_years_list':eval})\n",
    "df.head()"
   ]
  },
  {
   "cell_type": "markdown",
   "id": "0819e6f7-ab45-457b-bf87-61615c359763",
   "metadata": {},
   "source": [
    "**A- training for getting the year**"
   ]
  },
  {
   "cell_type": "code",
   "execution_count": 4,
   "id": "45df77eb-a8e1-42e9-b5ec-dd230aad80cb",
   "metadata": {},
   "outputs": [],
   "source": [
    "# fix random number generation aka regenerate the same random numbers every time (such as weight and bias initialization )\n",
    "def set_random_seed(seed=7, deterministic=True):\n",
    "    \"\"\"Set random seed, for python, numpy, pytorch\n",
    "\n",
    "    Args:\n",
    "        seed (int): Seed to be used.\n",
    "        deterministic (bool): Whether to set the deterministic option for\n",
    "            CUDNN backend, i.e., set `torch.backends.cudnn.deterministic`\n",
    "            to True and `torch.backends.cudnn.benchmark` to False.\n",
    "            Default: True.\n",
    "    \"\"\"\n",
    "    random.seed(seed)\n",
    "    np.random.seed(seed)\n",
    "    torch.manual_seed(seed)\n",
    "    torch.cuda.manual_seed_all(seed)\n",
    "    if deterministic:\n",
    "        torch.backends.cudnn.deterministic = True\n",
    "        torch.backends.cudnn.benchmark = False \n",
    "seed=7        \n",
    "set_random_seed(seed=seed)"
   ]
  },
  {
   "cell_type": "code",
   "execution_count": 5,
   "id": "556798f8-2f85-4c15-a87a-5e8eb28df59d",
   "metadata": {
    "tags": []
   },
   "outputs": [],
   "source": [
    "# output_year_digit column is just the last number in the output column\n",
    "x_year = df[[\"leap_year_condition\", \"decade\", \"decade4\", \"valid_years_list\", \"output_year_digit\"]]\n",
    "y_year = x_year.pop(\"output_year_digit\")\n",
    "v = x_year.pop(\"valid_years_list\")\n",
    "v = pd.DataFrame([i for i in v])\n",
    "# v.head(7), x_year.head(7)"
   ]
  },
  {
   "cell_type": "code",
   "execution_count": 6,
   "id": "cfcdf062-ba45-4eab-96ca-4d329b4fab2a",
   "metadata": {},
   "outputs": [],
   "source": [
    "# the previous cell code is replacement for this cell code, as i want to use the same train_test_split data, \n",
    "#so i willn't resplit the data again using train_test_split function\n",
    "\n",
    "\n",
    "xtrain_year, xtest_year, ytrain_year, ytest_year, vtrain_year, vtest_year = train_test_split(x_year, \n",
    "                                                                                             y_year, \n",
    "                                                                                             v, \n",
    "                                                                                             test_size=0.19, \n",
    "                                                                                             shuffle=True, \n",
    "                                                                                             random_state=seed, \n",
    "                                                                                             stratify=df.valid_group_days_index)"
   ]
  },
  {
   "cell_type": "code",
   "execution_count": 7,
   "id": "992db5c1-e1e9-4556-b4ec-0aafd7f1fb75",
   "metadata": {},
   "outputs": [],
   "source": [
    "# i save this two files as i will use these indices in train year_prediction model in the the other notebook\n",
    "pd.DataFrame(xtrain_year.index).to_csv(\"../data/train_indices.csv\", header=True, index=True)\n",
    "pd.DataFrame(xtest_year.index).to_csv(\"../data/test_indices.csv\", header=True, index=True)"
   ]
  },
  {
   "cell_type": "code",
   "execution_count": 8,
   "id": "faf7a51c-0b87-4b9d-b6ec-7fb2c56d3451",
   "metadata": {},
   "outputs": [],
   "source": [
    "class CollectedData(Dataset):\n",
    "    def __init__(self, x, y, v):\n",
    "        self.data = torch.tensor(x.values.astype(np.float32))\n",
    "        self.label = torch.tensor(y.values)\n",
    "        self.valids = torch.tensor(v.values.astype(np.int8))\n",
    "        self.n_smpl = x.shape[0]\n",
    "        \n",
    "        \n",
    "    def __getitem__(self, idx):\n",
    "        return self.data[idx], self.label[idx], self.valids[idx]\n",
    "    \n",
    "    def __len__(self):\n",
    "        return self.n_smpl    \n",
    "\n",
    "train_set_year = CollectedData(xtrain_year, ytrain_year, vtrain_year)\n",
    "test_set_year = CollectedData(xtest_year, ytest_year, vtest_year)    "
   ]
  },
  {
   "cell_type": "code",
   "execution_count": 9,
   "id": "1f0dd21d-1a26-47f1-b539-247bd301243a",
   "metadata": {},
   "outputs": [],
   "source": [
    "# #replacement for the previous cell\n",
    "# # train_set, test_set = torch.utils.data.random_split(dataset, [len(dataset)-int(len(dataset)*0.2), int(len(dataset)*0.2)])\n",
    "\n",
    "# train_labels_year = torch.tensor(ytrain_year.values.astype(np.float32)) \n",
    "# test_labels_year = torch.tensor(ytest_year.values.astype(np.float32)) \n",
    "# train_input_year = torch.tensor(xtrain_year.values.astype(np.float32)) \n",
    "# test_input_year = torch.tensor(xtest_year.values.astype(np.float32)) \n",
    "\n",
    "# train_set_year = TensorDataset(train_input_year, train_labels_year)\n",
    "# test_set_year = TensorDataset(test_input_year, test_labels_year)\n"
   ]
  },
  {
   "cell_type": "code",
   "execution_count": 12,
   "id": "b9ef6faa-7010-4301-9792-61f137f212df",
   "metadata": {
    "tags": []
   },
   "outputs": [],
   "source": [
    "# calculating accuracy\n",
    "@torch.no_grad()\n",
    "def calculate_accuracy(model, data_loader):\n",
    "    model.eval()\n",
    "    \n",
    "    num_correct = 0\n",
    "    num_samples = 0\n",
    "\n",
    "    for data, labels, valids in data_loader:\n",
    "        \n",
    "        # transfering data to cuda\n",
    "        data = data.to(device=device)\n",
    "        valids = valids.to(device=device)\n",
    "                \n",
    "        preds = model(data)\n",
    "        num_correct += len([1 for pred, vald in zip(preds.argmax(dim=1), valids) if pred in vald])\n",
    "        num_samples += len(preds)\n",
    "    accuracy = num_correct/num_samples\n",
    "    model.train()\n",
    "    return accuracy  "
   ]
  },
  {
   "cell_type": "code",
   "execution_count": 10,
   "id": "51a348e6-c679-4bc9-9abe-1772254e1eff",
   "metadata": {},
   "outputs": [],
   "source": [
    "batch_size = 128\n",
    "\n",
    "train_loader_year = DataLoader(dataset=train_set_year, shuffle=True, batch_size=batch_size)\n",
    "test_loader_year = DataLoader(dataset=test_set_year, batch_size=batch_size) "
   ]
  },
  {
   "cell_type": "code",
   "execution_count": 11,
   "id": "0e0e4d8c-8278-4f9c-a14a-a1b499d63b49",
   "metadata": {},
   "outputs": [],
   "source": [
    "device = torch.device(\"cuda\" if torch.cuda.is_available() else \"cpu\")\n",
    "\n",
    "class network(nn.Module):\n",
    "    def __init__(self, in_features=3, out_features=10):\n",
    "        super().__init__()\n",
    "        self.fc1 = nn.Linear(in_features, 20)\n",
    "        self.fc2 = nn.Linear(20, 15)\n",
    "        self.fc3 = nn.Linear(15, out_features) \n",
    "        self.initialize_weights()\n",
    "        \n",
    "        \n",
    "    def forward(self, inpt):\n",
    "        out = F.leaky_relu(self.fc1(inpt))\n",
    "        out = F.leaky_relu(self.fc2(out))\n",
    "        out = (self.fc3(out))\n",
    "        return out\n",
    "    \n",
    "    def initialize_weights(self):\n",
    "        for m in self.modules():\n",
    "            if isinstance(m, nn.Linear):\n",
    "                nn.init.kaiming_uniform_(m.weight)\n",
    "                nn.init.constant_(m.bias, 0)"
   ]
  },
  {
   "cell_type": "code",
   "execution_count": 13,
   "id": "c0da7dd2-23a6-4b27-bba5-642421fd2519",
   "metadata": {},
   "outputs": [],
   "source": [
    "# initializing the network\n",
    "model = network(in_features=3, out_features=10).to(device)\n",
    "lr = 0.007\n",
    "# loss and optimizer initializing\n",
    "criterion = nn.CrossEntropyLoss()\n",
    "# criterion = nn.MSELoss()\n",
    "optimizer = torch.optim.Adam(model.parameters(), lr=lr)\n",
    "schedular = torch.optim.lr_scheduler.ReduceLROnPlateau(optimizer, factor=0.1, patience=53, verbose=True)"
   ]
  },
  {
   "cell_type": "code",
   "execution_count": 14,
   "id": "350619a6-e65d-472e-be51-d6c48ce32129",
   "metadata": {
    "tags": []
   },
   "outputs": [
    {
     "name": "stdout",
     "output_type": "stream",
     "text": [
      "starting learning rate = 0.007 \n",
      " number of epochs = 133 \n",
      " number of batches = 927 \n",
      "\n"
     ]
    },
    {
     "name": "stderr",
     "output_type": "stream",
     "text": [
      "epoch [1/133], loss=2.2992: 100%|████████████████████████████████████████████████████| 927/927 [00:28<00:00, 33.07it/s]\n"
     ]
    },
    {
     "name": "stdout",
     "output_type": "stream",
     "text": [
      "after 1 epoch, train_acc = 45.79%, test_acc = 46.29%, time_elapsed = 1.3 minuts\n"
     ]
    },
    {
     "name": "stderr",
     "output_type": "stream",
     "text": [
      "epoch [2/133], loss=2.3108: 100%|████████████████████████████████████████████████████| 927/927 [00:10<00:00, 88.24it/s]\n"
     ]
    },
    {
     "name": "stdout",
     "output_type": "stream",
     "text": [
      "after 2 epoch, train_acc = 75.72%, test_acc = 75.92%, time_elapsed = 1.0 minuts\n"
     ]
    },
    {
     "name": "stderr",
     "output_type": "stream",
     "text": [
      "epoch [3/133], loss=2.3026: 100%|████████████████████████████████████████████████████| 927/927 [00:10<00:00, 87.03it/s]\n"
     ]
    },
    {
     "name": "stdout",
     "output_type": "stream",
     "text": [
      "after 3 epoch, train_acc = 45.79%, test_acc = 46.29%, time_elapsed = 1.0 minuts\n"
     ]
    },
    {
     "name": "stderr",
     "output_type": "stream",
     "text": [
      "epoch [4/133], loss=2.2602: 100%|████████████████████████████████████████████████████| 927/927 [00:10<00:00, 88.91it/s]\n"
     ]
    },
    {
     "name": "stdout",
     "output_type": "stream",
     "text": [
      "after 4 epoch, train_acc = 54.21%, test_acc = 53.71%, time_elapsed = 1.0 minuts\n"
     ]
    },
    {
     "name": "stderr",
     "output_type": "stream",
     "text": [
      "epoch [5/133], loss=2.1221: 100%|████████████████████████████████████████████████████| 927/927 [00:10<00:00, 91.54it/s]\n"
     ]
    },
    {
     "name": "stdout",
     "output_type": "stream",
     "text": [
      "after 5 epoch, train_acc = 90.03%, test_acc = 89.91%, time_elapsed = 1.0 minuts\n"
     ]
    },
    {
     "name": "stderr",
     "output_type": "stream",
     "text": [
      "epoch [6/133], loss=2.1330: 100%|████████████████████████████████████████████████████| 927/927 [00:10<00:00, 89.65it/s]\n"
     ]
    },
    {
     "name": "stdout",
     "output_type": "stream",
     "text": [
      "after 6 epoch, train_acc = 90.03%, test_acc = 89.91%, time_elapsed = 1.0 minuts\n"
     ]
    },
    {
     "name": "stderr",
     "output_type": "stream",
     "text": [
      "epoch [7/133], loss=2.0469: 100%|████████████████████████████████████████████████████| 927/927 [00:09<00:00, 92.92it/s]\n"
     ]
    },
    {
     "name": "stdout",
     "output_type": "stream",
     "text": [
      "after 7 epoch, train_acc = 94.01%, test_acc = 93.96%, time_elapsed = 1.0 minuts\n"
     ]
    },
    {
     "name": "stderr",
     "output_type": "stream",
     "text": [
      "epoch [8/133], loss=1.8476: 100%|████████████████████████████████████████████████████| 927/927 [00:10<00:00, 92.34it/s]\n"
     ]
    },
    {
     "name": "stdout",
     "output_type": "stream",
     "text": [
      "after 8 epoch, train_acc = 100.00%, test_acc = 100.00%, time_elapsed = 1.0 minuts\n"
     ]
    }
   ],
   "source": [
    "num_epochs = 133\n",
    "\n",
    "def train_model(num_epochs, data_loader=train_loader_year):\n",
    "    num_batches = len(data_loader)\n",
    "    print(f\"starting learning rate = {lr} \\n number of epochs = {num_epochs} \\n number of batches = {num_batches} \\n\")\n",
    "    # starting training loop epochs\n",
    "    result_train_acc, result_test_acc = [], []\n",
    "    for epoch in range(num_epochs):\n",
    "        start_time = time.time()\n",
    "        progress = tqdm(enumerate(data_loader), total=num_batches, leave=True)\n",
    "        for batch_idx, (data, labels, valids) in progress: \n",
    "\n",
    "            # convert data to device\n",
    "            data = data.to(device=device)\n",
    "            labels = labels.to(device=device)\n",
    "            # valids = valids.to(device=device)\n",
    "\n",
    "            # getting prediction and loss\n",
    "            preds = model(data)\n",
    "            loss = criterion(preds, labels)        \n",
    "\n",
    "            # back propagation\n",
    "            optimizer.zero_grad()\n",
    "            loss.backward()\n",
    "\n",
    "            # optimization step\n",
    "            optimizer.step()\n",
    "\n",
    "            progress.set_description(f\"epoch [{1+epoch}/{num_epochs}], loss={loss.item():0.4f}\")\n",
    "            progress.set_postfix()\n",
    "\n",
    "        train_acc = calculate_accuracy(model, data_loader=train_loader_year)\n",
    "        test_acc = calculate_accuracy(model, data_loader=test_loader_year)\n",
    "        schedular.step(test_acc)\n",
    "        print(f\"after {1+epoch} epoch, train_acc = {(train_acc*100):.2f}%, test_acc = {(test_acc*100):.2f}%, time_elapsed = {((time.time()-start_time)/60):.1f} minuts\")\n",
    "        result_train_acc += [train_acc]\n",
    "        result_test_acc += [test_acc]\n",
    "        schedular.step(test_acc)        \n",
    "        if train_acc==1.0 and test_acc==1.0:\n",
    "            return result_train_acc, result_test_acc            \n",
    "    return result_train_acc, result_test_acc\n",
    "result_train_acc, result_test_acc = train_model(num_epochs, data_loader=train_loader_year) \n"
   ]
  },
  {
   "cell_type": "code",
   "execution_count": 15,
   "id": "5ed78cae-20e8-4503-bac3-edadc3471854",
   "metadata": {},
   "outputs": [
    {
     "data": {
      "image/png": "[encoded data removed]",
      "text/plain": [
       "<Figure size 432x288 with 1 Axes>"
      ]
     },
     "metadata": {
      "needs_background": "light"
     },
     "output_type": "display_data"
    }
   ],
   "source": [
    "train_line_val = np.array([val for val in result_train_acc])# just replace val with val.cpu() if output is cuda\n",
    "test_line_val = np.array([val for val in result_test_acc])# just replace val with val.cpu() if output is cuda\n",
    "\n",
    "train_line, = plt.plot((range(len(train_line_val))), train_line_val, label=\"train accuracy\", marker=\"x\", linewidth=3)\n",
    "test_line, = plt.plot((range(len(test_line_val))), test_line_val, label=\"test accuracy\", marker=\"+\", linewidth=1.5)\n",
    "plt.legend(loc=\"best\", handles=[train_line, test_line])\n",
    "plt.title(\"train & test accuracy\")\n",
    "plt.xlabel(\"epochs\")\n",
    "plt.ylabel(\"accuracy percentage\")\n",
    "plt.grid()\n",
    "plt.show()"
   ]
  },
  {
   "cell_type": "code",
   "execution_count": 16,
   "id": "e19f3974-21dc-48bf-9ba6-9e9bc9211847",
   "metadata": {},
   "outputs": [
    {
     "data": {
      "text/html": [
       "<div>\n",
       "<style scoped>\n",
       "    .dataframe tbody tr th:only-of-type {\n",
       "        vertical-align: middle;\n",
       "    }\n",
       "\n",
       "    .dataframe tbody tr th {\n",
       "        vertical-align: top;\n",
       "    }\n",
       "\n",
       "    .dataframe thead th {\n",
       "        text-align: right;\n",
       "    }\n",
       "</style>\n",
       "<table border=\"1\" class=\"dataframe\">\n",
       "  <thead>\n",
       "    <tr style=\"text-align: right;\">\n",
       "      <th></th>\n",
       "      <th>leap_year_condition</th>\n",
       "      <th>decade</th>\n",
       "      <th>decade4</th>\n",
       "      <th>predicted_year_digit</th>\n",
       "      <th>predicted_year</th>\n",
       "    </tr>\n",
       "    <tr>\n",
       "      <th>index</th>\n",
       "      <th></th>\n",
       "      <th></th>\n",
       "      <th></th>\n",
       "      <th></th>\n",
       "      <th></th>\n",
       "    </tr>\n",
       "  </thead>\n",
       "  <tbody>\n",
       "    <tr>\n",
       "      <th>19729</th>\n",
       "      <td>1</td>\n",
       "      <td>188</td>\n",
       "      <td>0</td>\n",
       "      <td>4</td>\n",
       "      <td>1884</td>\n",
       "    </tr>\n",
       "    <tr>\n",
       "      <th>18483</th>\n",
       "      <td>0</td>\n",
       "      <td>183</td>\n",
       "      <td>1</td>\n",
       "      <td>3</td>\n",
       "      <td>1833</td>\n",
       "    </tr>\n",
       "    <tr>\n",
       "      <th>103614</th>\n",
       "      <td>1</td>\n",
       "      <td>195</td>\n",
       "      <td>1</td>\n",
       "      <td>2</td>\n",
       "      <td>1952</td>\n",
       "    </tr>\n",
       "    <tr>\n",
       "      <th>8841</th>\n",
       "      <td>0</td>\n",
       "      <td>181</td>\n",
       "      <td>1</td>\n",
       "      <td>3</td>\n",
       "      <td>1813</td>\n",
       "    </tr>\n",
       "    <tr>\n",
       "      <th>97054</th>\n",
       "      <td>1</td>\n",
       "      <td>181</td>\n",
       "      <td>1</td>\n",
       "      <td>2</td>\n",
       "      <td>1812</td>\n",
       "    </tr>\n",
       "  </tbody>\n",
       "</table>\n",
       "</div>"
      ],
      "text/plain": [
       "        leap_year_condition  decade  decade4  predicted_year_digit  \\\n",
       "index                                                                \n",
       "19729                     1     188        0                     4   \n",
       "18483                     0     183        1                     3   \n",
       "103614                    1     195        1                     2   \n",
       "8841                      0     181        1                     3   \n",
       "97054                     1     181        1                     2   \n",
       "\n",
       "       predicted_year  \n",
       "index                  \n",
       "19729            1884  \n",
       "18483            1833  \n",
       "103614           1952  \n",
       "8841             1813  \n",
       "97054            1812  "
      ]
     },
     "execution_count": 16,
     "metadata": {},
     "output_type": "execute_result"
    }
   ],
   "source": [
    "r_test = xtest_year \n",
    "dt = r_test.copy(deep=True) \n",
    "r_test = torch.tensor(dt.values.astype(np.float32)).to(device=device)\n",
    "dt[\"predicted_year_digit\"] = model(r_test).argmax(dim=1).cpu()\n",
    "dt[\"predicted_year\"] = [str(dec+pred) for dec, pred in zip(dt.decade*10, dt.predicted_year_digit)]\n",
    "dt.head()"
   ]
  },
  {
   "cell_type": "code",
   "execution_count": 17,
   "id": "800facb6-e849-4587-b4d3-b0fc9ccc089a",
   "metadata": {},
   "outputs": [
    {
     "name": "stdout",
     "output_type": "stream",
     "text": [
      "test_accuracy = 100.0%\n"
     ]
    }
   ],
   "source": [
    "test_accuracy = calculate_accuracy(model, data_loader=test_loader_year)\n",
    "print(f\"test_accuracy = {test_accuracy*100}%\")"
   ]
  },
  {
   "cell_type": "markdown",
   "id": "6b73b6c1-a2eb-4013-8cb4-d4a89cc6a263",
   "metadata": {},
   "source": [
    "**i got accuracy of 90.20% when i used just two columns(decade_year_condition, and decade)**"
   ]
  },
  {
   "cell_type": "code",
   "execution_count": 18,
   "id": "389a1e54-6d8c-4026-b424-568ed667f0a8",
   "metadata": {},
   "outputs": [],
   "source": [
    "# torch.save(model, \"../data/year_model_saved\")\n",
    "# model = torch.load(\"../data/year_model_saved\")"
   ]
  },
  {
   "cell_type": "code",
   "execution_count": 19,
   "id": "f3969fae-2dc5-4563-89cb-b18221f443b6",
   "metadata": {},
   "outputs": [],
   "source": [
    "# dt.to_csv(\"../data/year_predictions.csv\", header=True, index=True)"
   ]
  },
  {
   "cell_type": "code",
   "execution_count": null,
   "id": "a28e7881-0836-40c4-984a-65e2b19f7517",
   "metadata": {},
   "outputs": [],
   "source": []
  }
 ],
 "metadata": {
  "kernelspec": {
   "display_name": "Python 3 (ipykernel)",
   "language": "python",
   "name": "python3"
  },
  "language_info": {
   "codemirror_mode": {
    "name": "ipython",
    "version": 3
   },
   "file_extension": ".py",
   "mimetype": "text/x-python",
   "name": "python",
   "nbconvert_exporter": "python",
   "pygments_lexer": "ipython3",
   "version": "3.9.7"
  }
 },
 "nbformat": 4,
 "nbformat_minor": 5
}
