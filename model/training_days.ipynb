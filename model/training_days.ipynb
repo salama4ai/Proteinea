{
 "cells": [
  {
   "cell_type": "code",
   "execution_count": 16,
   "id": "d0ec34b8-0bb3-487e-9d11-98ffa61a0502",
   "metadata": {},
   "outputs": [],
   "source": [
    "import numpy as np\n",
    "import pandas as pd\n",
    "import torch\n",
    "import torch.nn as nn\n",
    "import torch.nn.functional as F\n",
    "from torch.utils.data import Dataset, DataLoader, TensorDataset\n",
    "from sklearn.model_selection import train_test_split, RandomizedSearchCV\n",
    "import random\n",
    "import time\n",
    "from tqdm import tqdm\n",
    "from matplotlib import pyplot as plt"
   ]
  },
  {
   "cell_type": "code",
   "execution_count": 17,
   "id": "2f19486a-ed28-4936-86d3-2fd667902629",
   "metadata": {},
   "outputs": [
    {
     "data": {
      "text/html": [
       "<div>\n",
       "<style scoped>\n",
       "    .dataframe tbody tr th:only-of-type {\n",
       "        vertical-align: middle;\n",
       "    }\n",
       "\n",
       "    .dataframe tbody tr th {\n",
       "        vertical-align: top;\n",
       "    }\n",
       "\n",
       "    .dataframe thead th {\n",
       "        text-align: right;\n",
       "    }\n",
       "</style>\n",
       "<table border=\"1\" class=\"dataframe\">\n",
       "  <thead>\n",
       "    <tr style=\"text-align: right;\">\n",
       "      <th></th>\n",
       "      <th>weekday_name</th>\n",
       "      <th>month</th>\n",
       "      <th>leap_year_condition</th>\n",
       "      <th>decade</th>\n",
       "      <th>output</th>\n",
       "      <th>output_year_digit</th>\n",
       "      <th>output_year</th>\n",
       "      <th>valid_years_list</th>\n",
       "      <th>valid_day_list</th>\n",
       "      <th>decade4</th>\n",
       "      <th>decade100</th>\n",
       "      <th>decade400</th>\n",
       "      <th>valid_group_days_index</th>\n",
       "    </tr>\n",
       "  </thead>\n",
       "  <tbody>\n",
       "    <tr>\n",
       "      <th>0</th>\n",
       "      <td>2</td>\n",
       "      <td>1</td>\n",
       "      <td>0</td>\n",
       "      <td>180</td>\n",
       "      <td>1-1-1800</td>\n",
       "      <td>0</td>\n",
       "      <td>1800</td>\n",
       "      <td>[0, 1, 2, 3, 5, 6, 7, 9]</td>\n",
       "      <td>[1, 8, 15, 22, 29]</td>\n",
       "      <td>0</td>\n",
       "      <td>0</td>\n",
       "      <td>1</td>\n",
       "      <td>7</td>\n",
       "    </tr>\n",
       "    <tr>\n",
       "      <th>1</th>\n",
       "      <td>3</td>\n",
       "      <td>1</td>\n",
       "      <td>0</td>\n",
       "      <td>180</td>\n",
       "      <td>1-1-1801</td>\n",
       "      <td>1</td>\n",
       "      <td>1801</td>\n",
       "      <td>[0, 1, 2, 3, 5, 6, 7, 9]</td>\n",
       "      <td>[1, 8, 15, 22, 29]</td>\n",
       "      <td>0</td>\n",
       "      <td>0</td>\n",
       "      <td>1</td>\n",
       "      <td>7</td>\n",
       "    </tr>\n",
       "    <tr>\n",
       "      <th>2</th>\n",
       "      <td>4</td>\n",
       "      <td>1</td>\n",
       "      <td>0</td>\n",
       "      <td>180</td>\n",
       "      <td>1-1-1802</td>\n",
       "      <td>2</td>\n",
       "      <td>1802</td>\n",
       "      <td>[0, 1, 2, 3, 5, 6, 7, 9]</td>\n",
       "      <td>[1, 8, 15, 22, 29]</td>\n",
       "      <td>0</td>\n",
       "      <td>0</td>\n",
       "      <td>1</td>\n",
       "      <td>7</td>\n",
       "    </tr>\n",
       "    <tr>\n",
       "      <th>3</th>\n",
       "      <td>5</td>\n",
       "      <td>1</td>\n",
       "      <td>0</td>\n",
       "      <td>180</td>\n",
       "      <td>1-1-1803</td>\n",
       "      <td>3</td>\n",
       "      <td>1803</td>\n",
       "      <td>[0, 1, 2, 3, 5, 6, 7, 9]</td>\n",
       "      <td>[1, 8, 15, 22, 29]</td>\n",
       "      <td>0</td>\n",
       "      <td>0</td>\n",
       "      <td>1</td>\n",
       "      <td>7</td>\n",
       "    </tr>\n",
       "    <tr>\n",
       "      <th>4</th>\n",
       "      <td>6</td>\n",
       "      <td>1</td>\n",
       "      <td>1</td>\n",
       "      <td>180</td>\n",
       "      <td>1-1-1804</td>\n",
       "      <td>4</td>\n",
       "      <td>1804</td>\n",
       "      <td>[4, 8, 4, 4, 4, 4, 4, 4]</td>\n",
       "      <td>[1, 8, 15, 22, 29]</td>\n",
       "      <td>0</td>\n",
       "      <td>0</td>\n",
       "      <td>1</td>\n",
       "      <td>7</td>\n",
       "    </tr>\n",
       "    <tr>\n",
       "      <th>5</th>\n",
       "      <td>1</td>\n",
       "      <td>1</td>\n",
       "      <td>0</td>\n",
       "      <td>180</td>\n",
       "      <td>1-1-1805</td>\n",
       "      <td>5</td>\n",
       "      <td>1805</td>\n",
       "      <td>[0, 1, 2, 3, 5, 6, 7, 9]</td>\n",
       "      <td>[1, 8, 15, 22, 29]</td>\n",
       "      <td>0</td>\n",
       "      <td>0</td>\n",
       "      <td>1</td>\n",
       "      <td>7</td>\n",
       "    </tr>\n",
       "    <tr>\n",
       "      <th>6</th>\n",
       "      <td>2</td>\n",
       "      <td>1</td>\n",
       "      <td>0</td>\n",
       "      <td>180</td>\n",
       "      <td>1-1-1806</td>\n",
       "      <td>6</td>\n",
       "      <td>1806</td>\n",
       "      <td>[0, 1, 2, 3, 5, 6, 7, 9]</td>\n",
       "      <td>[1, 8, 15, 22, 29]</td>\n",
       "      <td>0</td>\n",
       "      <td>0</td>\n",
       "      <td>1</td>\n",
       "      <td>7</td>\n",
       "    </tr>\n",
       "  </tbody>\n",
       "</table>\n",
       "</div>"
      ],
      "text/plain": [
       "   weekday_name  month  leap_year_condition  decade    output  \\\n",
       "0             2      1                    0     180  1-1-1800   \n",
       "1             3      1                    0     180  1-1-1801   \n",
       "2             4      1                    0     180  1-1-1802   \n",
       "3             5      1                    0     180  1-1-1803   \n",
       "4             6      1                    1     180  1-1-1804   \n",
       "5             1      1                    0     180  1-1-1805   \n",
       "6             2      1                    0     180  1-1-1806   \n",
       "\n",
       "   output_year_digit  output_year          valid_years_list  \\\n",
       "0                  0         1800  [0, 1, 2, 3, 5, 6, 7, 9]   \n",
       "1                  1         1801  [0, 1, 2, 3, 5, 6, 7, 9]   \n",
       "2                  2         1802  [0, 1, 2, 3, 5, 6, 7, 9]   \n",
       "3                  3         1803  [0, 1, 2, 3, 5, 6, 7, 9]   \n",
       "4                  4         1804  [4, 8, 4, 4, 4, 4, 4, 4]   \n",
       "5                  5         1805  [0, 1, 2, 3, 5, 6, 7, 9]   \n",
       "6                  6         1806  [0, 1, 2, 3, 5, 6, 7, 9]   \n",
       "\n",
       "       valid_day_list  decade4  decade100  decade400  valid_group_days_index  \n",
       "0  [1, 8, 15, 22, 29]        0          0          1                       7  \n",
       "1  [1, 8, 15, 22, 29]        0          0          1                       7  \n",
       "2  [1, 8, 15, 22, 29]        0          0          1                       7  \n",
       "3  [1, 8, 15, 22, 29]        0          0          1                       7  \n",
       "4  [1, 8, 15, 22, 29]        0          0          1                       7  \n",
       "5  [1, 8, 15, 22, 29]        0          0          1                       7  \n",
       "6  [1, 8, 15, 22, 29]        0          0          1                       7  "
      ]
     },
     "execution_count": 17,
     "metadata": {},
     "output_type": "execute_result"
    }
   ],
   "source": [
    "df = pd.read_csv(\"../data/data.csv\")\n",
    "df.head(7)"
   ]
  },
  {
   "cell_type": "code",
   "execution_count": 36,
   "id": "fc1e5c94-b7b7-4809-8cd5-b9f7e12f8556",
   "metadata": {},
   "outputs": [
    {
     "data": {
      "text/plain": [
       "7    22540\n",
       "8    22055\n",
       "3    19248\n",
       "4    19248\n",
       "5    19248\n",
       "6    19248\n",
       "9    14035\n",
       "2     8020\n",
       "1     1604\n",
       "0     1216\n",
       "Name: valid_group_days_index, dtype: int64"
      ]
     },
     "execution_count": 36,
     "metadata": {},
     "output_type": "execute_result"
    }
   ],
   "source": [
    "df.valid_group_days_index.value_counts()"
   ]
  },
  {
   "cell_type": "code",
   "execution_count": 41,
   "id": "32f5cb3f-e0ec-4816-9fc6-a135af37a947",
   "metadata": {},
   "outputs": [
    {
     "data": {
      "text/plain": [
       "401"
      ]
     },
     "execution_count": 41,
     "metadata": {},
     "output_type": "execute_result"
    }
   ],
   "source": [
    "df.output_year.nunique()"
   ]
  },
  {
   "cell_type": "raw",
   "id": "48b72e88-4ff9-437f-b46d-5952c78461fe",
   "metadata": {},
   "source": [
    "# list of all possibole (10) output lists, the output must be one of theses lists\n",
    "groups = [[1, 8, 15, 22], \n",
    "         [2, 9, 16, 23], \n",
    "         [3, 10, 17, 24], \n",
    "         [4, 11, 18, 25], \n",
    "         [5, 12, 19, 26], \n",
    "         [6, 13, 20, 27], \n",
    "         [7, 14, 21, 28],\n",
    "         [1, 8, 15, 22, 29], \n",
    "         [2, 9, 16, 23, 30], \n",
    "         [3, 10, 17, 24, 31]]\n",
    "groups_dict = dict(enumerate(groups))\n",
    "groups_dict"
   ]
  },
  {
   "cell_type": "code",
   "execution_count": 19,
   "id": "a09d7594-25e6-44c6-a479-8eda01194a9d",
   "metadata": {},
   "outputs": [],
   "source": [
    "x_day = df[[\"weekday_name\", \"month\", \"output_year\", \"leap_year_condition\", \"valid_group_days_index\"]]\n",
    "y_day = x_day.pop(\"valid_group_days_index\") # from 0 to 9\n",
    "# v = pd.DataFrame([i for i in df[\"valid_day_list\"]])"
   ]
  },
  {
   "cell_type": "markdown",
   "id": "af5166d6-4cd8-4e9d-81f7-946c9d4820de",
   "metadata": {},
   "source": [
    "**B- training for getting the day**"
   ]
  },
  {
   "cell_type": "code",
   "execution_count": 20,
   "id": "3c459028-3062-46c6-8dbc-f2baa9467137",
   "metadata": {},
   "outputs": [],
   "source": [
    "# fix random number generation aka regenerate the same random numbers every time (such as weight and bias initialization )\n",
    "def set_random_seed(seed=7, deterministic=True):\n",
    "    \"\"\"Set random seed, for python, numpy, pytorch\n",
    "\n",
    "    Args:\n",
    "        seed (int): Seed to be used.\n",
    "        deterministic (bool): Whether to set the deterministic option for\n",
    "            CUDNN backend, i.e., set `torch.backends.cudnn.deterministic`\n",
    "            to True and `torch.backends.cudnn.benchmark` to False.\n",
    "            Default: True.\n",
    "    \"\"\"\n",
    "    random.seed(seed)\n",
    "    np.random.seed(seed)\n",
    "    torch.manual_seed(seed)\n",
    "    torch.cuda.manual_seed_all(seed)\n",
    "    if deterministic:\n",
    "        torch.backends.cudnn.deterministic = True\n",
    "        torch.backends.cudnn.benchmark = False \n",
    "seed=7        \n",
    "set_random_seed(seed=seed)"
   ]
  },
  {
   "cell_type": "code",
   "execution_count": 43,
   "id": "1cb837f1-a80b-4e7a-bca5-57c92b4f1797",
   "metadata": {},
   "outputs": [],
   "source": [
    "batch_size = 512\n",
    "xtrain_day, xtest_day, ytrain_day, ytest_day = train_test_split(x_day, y_day, test_size=0.19, shuffle=True, random_state=seed)"
   ]
  },
  {
   "cell_type": "code",
   "execution_count": 44,
   "id": "23b2b2c3-33d8-4e16-b680-124fea70d5c0",
   "metadata": {},
   "outputs": [],
   "source": [
    "class CollectedData(Dataset):\n",
    "    def __init__(self, x, y):\n",
    "        self.data = torch.tensor(x.values.astype(np.float32))\n",
    "        self.label = torch.tensor(y.values)\n",
    "        self.n_smpl = x.shape[0]\n",
    "        \n",
    "        \n",
    "    def __getitem__(self, idx):\n",
    "        return self.data[idx], self.label[idx]\n",
    "    \n",
    "    def __len__(self):\n",
    "        return self.n_smpl    \n",
    "    \n",
    "train_set_day = CollectedData(xtrain_day, ytrain_day)\n",
    "test_set_day = CollectedData(xtest_day, ytest_day)    "
   ]
  },
  {
   "cell_type": "code",
   "execution_count": 45,
   "id": "4a6a1a0d-2e8d-4a7a-b0a3-b1f7cac61d9f",
   "metadata": {},
   "outputs": [],
   "source": [
    "# # this isn't suitable here, so that i used train_test_split function\n",
    "# # train_set, test_set = torch.utils.data.random_split(dataset, [len(dataset)-test_len, int(len(dataset)*0.2)])\n",
    "\n",
    "# train_labels_day = torch.tensor(ytrain_day.values.astype(np.float32)) \n",
    "# test_labels_day = torch.tensor(ytest_day.values.astype(np.float32)) \n",
    "# train_input_day = torch.tensor(xtrain_day.values.astype(np.float32)) \n",
    "# test_input_day = torch.tensor(xtest_day.values.astype(np.float32)) \n",
    "\n",
    "# train_set_day = TensorDataset(train_input_day, train_labels_day)\n",
    "# test_set_day = TensorDataset(test_input_day, test_labels_day)\n"
   ]
  },
  {
   "cell_type": "code",
   "execution_count": 46,
   "id": "e4471f16-2365-482e-9381-ec6f16ab3981",
   "metadata": {},
   "outputs": [],
   "source": [
    "train_loader_day = DataLoader(dataset=train_set_day, shuffle=True, batch_size=batch_size)\n",
    "test_loader_day = DataLoader(dataset=test_set_day, batch_size=batch_size) "
   ]
  },
  {
   "cell_type": "code",
   "execution_count": 62,
   "id": "0569ef04-1b22-4be1-87b5-2fd7bc29e6b9",
   "metadata": {},
   "outputs": [],
   "source": [
    "device = torch.device(\"cuda\" if torch.cuda.is_available() else \"cpu\")\n",
    "\n",
    "class network(nn.Module):\n",
    "    def __init__(self, in_features=4, out_features=10):\n",
    "        super().__init__()\n",
    "        self.fc1 = nn.Linear(in_features, 168)\n",
    "        self.fc2 = nn.Linear(168, 401)\n",
    "        self.fc3 = nn.Linear(401, 168)\n",
    "        self.fc4 = nn.Linear(168, 33)\n",
    "        # self.fc5 = nn.Linear(11, 11)\n",
    "        self.fc6 = nn.Linear(33, out_features) \n",
    "        self.initialize_weights()\n",
    "        \n",
    "        \n",
    "    def forward(self, inpt):\n",
    "        out = F.leaky_relu(self.fc1(inpt))\n",
    "        out = F.leaky_relu(self.fc2(out))\n",
    "        out = F.leaky_relu(self.fc3(out))\n",
    "        out = F.tanh(self.fc4(out))\n",
    "        # out = F.leaky_relu(self.fc5(out))\n",
    "        out = ((self.fc6(out)))\n",
    "        return out\n",
    "    \n",
    "    def initialize_weights(self):\n",
    "        for m in self.modules():\n",
    "            if isinstance(m, nn.Linear):\n",
    "                nn.init.kaiming_uniform_(m.weight)\n",
    "                nn.init.constant_(m.bias, 0)"
   ]
  },
  {
   "cell_type": "code",
   "execution_count": 63,
   "id": "243ae509-c237-4b62-ba60-c1b57ef3bd55",
   "metadata": {
    "tags": []
   },
   "outputs": [
    {
     "data": {
      "text/plain": [
       "tensor(0.1312, device='cuda:0')"
      ]
     },
     "execution_count": 63,
     "metadata": {},
     "output_type": "execute_result"
    }
   ],
   "source": [
    "# calculating accuracy\n",
    "@torch.no_grad()\n",
    "def calculate_accuracy(model, data_loader=train_loader_day):\n",
    "    model.eval()\n",
    "    \n",
    "    num_correct = 0\n",
    "    num_samples = 0\n",
    "\n",
    "    for data, labels in data_loader:\n",
    "        \n",
    "        # transfering data to cuda\n",
    "        data = data.to(device=device)\n",
    "        labels = labels.to(device=device)\n",
    "                \n",
    "        preds = model(data)\n",
    "        # print(preds.argmax(dim=1), labels)\n",
    "        num_correct += sum(list(preds.argmax(dim=1)==labels))\n",
    "        num_samples += len(labels)\n",
    "    accuracy = num_correct/num_samples\n",
    "    model.train()\n",
    "    return accuracy  \n",
    "calculate_accuracy(model, data_loader=test_loader_day)"
   ]
  },
  {
   "cell_type": "code",
   "execution_count": 66,
   "id": "7acd5273-75d7-4238-9144-da877ba3dc34",
   "metadata": {},
   "outputs": [
    {
     "data": {
      "text/plain": [
       "network(\n",
       "  (fc1): Linear(in_features=4, out_features=168, bias=True)\n",
       "  (fc2): Linear(in_features=168, out_features=401, bias=True)\n",
       "  (fc3): Linear(in_features=401, out_features=168, bias=True)\n",
       "  (fc4): Linear(in_features=168, out_features=33, bias=True)\n",
       "  (fc6): Linear(in_features=33, out_features=10, bias=True)\n",
       ")"
      ]
     },
     "execution_count": 66,
     "metadata": {},
     "output_type": "execute_result"
    }
   ],
   "source": [
    "# initializing the network\n",
    "model = network(in_features=4, out_features=10).to(device)\n",
    "lr = 0.5\n",
    "# loss and optimizer initializing\n",
    "criterion = nn.CrossEntropyLoss()\n",
    "# criterion = nn.MSELoss()\n",
    "optimizer = torch.optim.Adam(model.parameters(), lr=lr)\n",
    "schedular = torch.optim.lr_scheduler.ReduceLROnPlateau(optimizer, factor=0.1, patience=35, verbose=True)\n",
    "model"
   ]
  },
  {
   "cell_type": "code",
   "execution_count": null,
   "id": "261be555-e25f-4e65-83b4-5bc540157bb6",
   "metadata": {},
   "outputs": [
    {
     "name": "stdout",
     "output_type": "stream",
     "text": [
      "starting learning rate = 0.5 \n",
      " number of epochs = 33 \n",
      " number of batches = 232 \n",
      "\n"
     ]
    },
    {
     "name": "stderr",
     "output_type": "stream",
     "text": [
      "epoch [1/33], loss=10.0608: 100%|████████████████████████████████████████████████████| 232/232 [00:06<00:00, 34.37it/s]\n"
     ]
    },
    {
     "name": "stdout",
     "output_type": "stream",
     "text": [
      "after 1 epoch, train_acc = 13.15%, test_acc = 13.12%, time_elapsed = 0.2 minuts\n"
     ]
    },
    {
     "name": "stderr",
     "output_type": "stream",
     "text": [
      "epoch [2/33], loss=2.2641: 100%|█████████████████████████████████████████████████████| 232/232 [00:04<00:00, 49.18it/s]\n"
     ]
    },
    {
     "name": "stdout",
     "output_type": "stream",
     "text": [
      "after 2 epoch, train_acc = 15.10%, test_acc = 14.86%, time_elapsed = 0.2 minuts\n"
     ]
    },
    {
     "name": "stderr",
     "output_type": "stream",
     "text": [
      "epoch [3/33], loss=3.1786: 100%|█████████████████████████████████████████████████████| 232/232 [00:06<00:00, 37.18it/s]\n"
     ]
    },
    {
     "name": "stdout",
     "output_type": "stream",
     "text": [
      "after 3 epoch, train_acc = 15.10%, test_acc = 14.86%, time_elapsed = 0.2 minuts\n"
     ]
    },
    {
     "name": "stderr",
     "output_type": "stream",
     "text": [
      "epoch [4/33], loss=2.2463: 100%|█████████████████████████████████████████████████████| 232/232 [00:03<00:00, 65.38it/s]\n"
     ]
    },
    {
     "name": "stdout",
     "output_type": "stream",
     "text": [
      "after 4 epoch, train_acc = 13.15%, test_acc = 13.12%, time_elapsed = 0.1 minuts\n"
     ]
    },
    {
     "name": "stderr",
     "output_type": "stream",
     "text": [
      "epoch [5/33], loss=3.0687: 100%|█████████████████████████████████████████████████████| 232/232 [00:03<00:00, 67.82it/s]\n"
     ]
    },
    {
     "name": "stdout",
     "output_type": "stream",
     "text": [
      "after 5 epoch, train_acc = 13.17%, test_acc = 13.03%, time_elapsed = 0.2 minuts\n"
     ]
    },
    {
     "name": "stderr",
     "output_type": "stream",
     "text": [
      "epoch [6/33], loss=3.3534: 100%|███████████████████████████████████████████████████| 232/232 [2:41:15<00:00, 41.70s/it]\n"
     ]
    },
    {
     "name": "stdout",
     "output_type": "stream",
     "text": [
      "after 6 epoch, train_acc = 13.10%, test_acc = 13.33%, time_elapsed = 161.4 minuts\n"
     ]
    },
    {
     "name": "stderr",
     "output_type": "stream",
     "text": [
      "epoch [7/33], loss=2.2707: 100%|█████████████████████████████████████████████████████| 232/232 [00:04<00:00, 54.11it/s]\n"
     ]
    },
    {
     "name": "stdout",
     "output_type": "stream",
     "text": [
      "after 7 epoch, train_acc = 13.15%, test_acc = 13.12%, time_elapsed = 0.2 minuts\n"
     ]
    },
    {
     "name": "stderr",
     "output_type": "stream",
     "text": [
      "epoch [8/33], loss=9.9490: 100%|█████████████████████████████████████████████████████| 232/232 [00:06<00:00, 34.37it/s]\n"
     ]
    },
    {
     "name": "stdout",
     "output_type": "stream",
     "text": [
      "after 8 epoch, train_acc = 15.45%, test_acc = 15.14%, time_elapsed = 0.2 minuts\n"
     ]
    },
    {
     "name": "stderr",
     "output_type": "stream",
     "text": [
      "epoch [9/33], loss=2.4136: 100%|█████████████████████████████████████████████████████| 232/232 [00:05<00:00, 39.62it/s]\n"
     ]
    },
    {
     "name": "stdout",
     "output_type": "stream",
     "text": [
      "after 9 epoch, train_acc = 15.10%, test_acc = 14.86%, time_elapsed = 0.2 minuts\n"
     ]
    },
    {
     "name": "stderr",
     "output_type": "stream",
     "text": [
      "epoch [10/33], loss=2.1734: 100%|████████████████████████████████████████████████████| 232/232 [00:03<00:00, 58.86it/s]\n"
     ]
    },
    {
     "name": "stdout",
     "output_type": "stream",
     "text": [
      "after 10 epoch, train_acc = 15.45%, test_acc = 15.14%, time_elapsed = 0.1 minuts\n"
     ]
    },
    {
     "name": "stderr",
     "output_type": "stream",
     "text": [
      "epoch [11/33], loss=3.3623: 100%|████████████████████████████████████████████████████| 232/232 [00:05<00:00, 41.58it/s]\n"
     ]
    },
    {
     "name": "stdout",
     "output_type": "stream",
     "text": [
      "after 11 epoch, train_acc = 15.10%, test_acc = 14.86%, time_elapsed = 0.2 minuts\n"
     ]
    },
    {
     "name": "stderr",
     "output_type": "stream",
     "text": [
      "epoch [12/33], loss=2.2911: 100%|████████████████████████████████████████████████████| 232/232 [00:03<00:00, 65.47it/s]\n"
     ]
    },
    {
     "name": "stdout",
     "output_type": "stream",
     "text": [
      "after 12 epoch, train_acc = 13.10%, test_acc = 13.33%, time_elapsed = 0.1 minuts\n"
     ]
    },
    {
     "name": "stderr",
     "output_type": "stream",
     "text": [
      "epoch [13/33], loss=10.1259: 100%|███████████████████████████████████████████████████| 232/232 [00:05<00:00, 41.39it/s]\n"
     ]
    },
    {
     "name": "stdout",
     "output_type": "stream",
     "text": [
      "after 13 epoch, train_acc = 13.17%, test_acc = 13.03%, time_elapsed = 0.2 minuts\n"
     ]
    },
    {
     "name": "stderr",
     "output_type": "stream",
     "text": [
      "epoch [14/33], loss=2.1630: 100%|████████████████████████████████████████████████████| 232/232 [00:03<00:00, 59.71it/s]\n"
     ]
    },
    {
     "name": "stdout",
     "output_type": "stream",
     "text": [
      "after 14 epoch, train_acc = 15.45%, test_acc = 15.14%, time_elapsed = 0.1 minuts\n"
     ]
    },
    {
     "name": "stderr",
     "output_type": "stream",
     "text": [
      "epoch [15/33], loss=2.2250:  11%|█████▋                                               | 25/232 [00:00<00:06, 31.52it/s]"
     ]
    }
   ],
   "source": [
    "num_epochs = 33\n",
    "def train_model(num_epochs, data_loader=train_loader_day):\n",
    "    num_batches = len(data_loader)\n",
    "    print(f\"starting learning rate = {lr} \\n number of epochs = {num_epochs} \\n number of batches = {num_batches} \\n\")\n",
    "    # starting training loop epochs\n",
    "    result_train_acc, result_test_acc = [], []\n",
    "    for epoch in range(num_epochs):\n",
    "        start_time = time.time()\n",
    "        progress = tqdm(enumerate(data_loader), total=num_batches, leave=True)\n",
    "        for batch_idx, (data, labels) in progress: \n",
    "\n",
    "            # convert data to device\n",
    "            data = data.to(device=device)\n",
    "            labels = labels.to(device=device)\n",
    "\n",
    "            # getting prediction and loss\n",
    "            preds = model(data)\n",
    "            loss = criterion(preds, labels)\n",
    "\n",
    "            # back propagation\n",
    "            optimizer.zero_grad()\n",
    "            loss.backward()\n",
    "\n",
    "            # optimization step\n",
    "            optimizer.step()\n",
    "\n",
    "            progress.set_description(f\"epoch [{1+epoch}/{num_epochs}], loss={loss.item():0.4f}\")\n",
    "            progress.set_postfix()\n",
    "\n",
    "        train_acc = calculate_accuracy(model, data_loader=train_loader_day)\n",
    "        test_acc = calculate_accuracy(model, data_loader=test_loader_day)\n",
    "        schedular.step(test_acc)\n",
    "        print(f\"after {1+epoch} epoch, train_acc = {(train_acc*100):.2f}%, test_acc = {(test_acc*100):.2f}%, time_elapsed = {((time.time()-start_time)/60):.1f} minuts\")\n",
    "        result_train_acc += [train_acc]\n",
    "        result_test_acc += [test_acc]\n",
    "    return result_train_acc, result_test_acc\n",
    "result_train_acc, result_test_acc = train_model(num_epochs, data_loader=train_loader_day)\n"
   ]
  },
  {
   "cell_type": "code",
   "execution_count": 33,
   "id": "291886a6-0c26-4ac8-819e-554b193fd76b",
   "metadata": {},
   "outputs": [
    {
     "ename": "NameError",
     "evalue": "name 'result_train_acc' is not defined",
     "output_type": "error",
     "traceback": [
      "\u001b[1;31m---------------------------------------------------------------------------\u001b[0m",
      "\u001b[1;31mNameError\u001b[0m                                 Traceback (most recent call last)",
      "\u001b[1;32m~\\AppData\\Local\\Temp/ipykernel_9080/1199808401.py\u001b[0m in \u001b[0;36m<module>\u001b[1;34m\u001b[0m\n\u001b[1;32m----> 1\u001b[1;33m \u001b[0mplt\u001b[0m\u001b[1;33m.\u001b[0m\u001b[0mplot\u001b[0m\u001b[1;33m(\u001b[0m\u001b[0mlist\u001b[0m\u001b[1;33m(\u001b[0m\u001b[0mrange\u001b[0m\u001b[1;33m(\u001b[0m\u001b[0mnum_epochs\u001b[0m\u001b[1;33m)\u001b[0m\u001b[1;33m)\u001b[0m\u001b[1;33m,\u001b[0m \u001b[0mresult_train_acc\u001b[0m\u001b[1;33m)\u001b[0m\u001b[1;33m\u001b[0m\u001b[1;33m\u001b[0m\u001b[0m\n\u001b[0m\u001b[0;32m      2\u001b[0m \u001b[0mplt\u001b[0m\u001b[1;33m.\u001b[0m\u001b[0mtitle\u001b[0m\u001b[1;33m(\u001b[0m\u001b[1;34m\"train accuracy\"\u001b[0m\u001b[1;33m)\u001b[0m\u001b[1;33m\u001b[0m\u001b[1;33m\u001b[0m\u001b[0m\n\u001b[0;32m      3\u001b[0m \u001b[0mplt\u001b[0m\u001b[1;33m.\u001b[0m\u001b[0mxlabel\u001b[0m\u001b[1;33m(\u001b[0m\u001b[1;34m\"epochs\"\u001b[0m\u001b[1;33m)\u001b[0m\u001b[1;33m\u001b[0m\u001b[1;33m\u001b[0m\u001b[0m\n\u001b[0;32m      4\u001b[0m \u001b[0mplt\u001b[0m\u001b[1;33m.\u001b[0m\u001b[0mylabel\u001b[0m\u001b[1;33m(\u001b[0m\u001b[1;34m\"accuracy percentage\"\u001b[0m\u001b[1;33m)\u001b[0m\u001b[1;33m\u001b[0m\u001b[1;33m\u001b[0m\u001b[0m\n\u001b[0;32m      5\u001b[0m \u001b[0mplt\u001b[0m\u001b[1;33m.\u001b[0m\u001b[0mshow\u001b[0m\u001b[1;33m(\u001b[0m\u001b[1;33m)\u001b[0m\u001b[1;33m\u001b[0m\u001b[1;33m\u001b[0m\u001b[0m\n",
      "\u001b[1;31mNameError\u001b[0m: name 'result_train_acc' is not defined"
     ]
    }
   ],
   "source": [
    "plt.plot(list(range(num_epochs)), result_train_acc)\n",
    "plt.title(\"train accuracy\")\n",
    "plt.xlabel(\"epochs\")\n",
    "plt.ylabel(\"accuracy percentage\")\n",
    "plt.show()"
   ]
  },
  {
   "cell_type": "code",
   "execution_count": 40,
   "id": "63e311c1-4e2c-49f3-b484-7c28e6f2aae5",
   "metadata": {},
   "outputs": [],
   "source": [
    "plt.plot(list(range(num_epochs)), result_test_acc)\n",
    "plt.title(\"test accuracy\")\n",
    "plt.xlabel(\"epochs\")\n",
    "plt.ylabel(\"accuracy percentage\")\n",
    "plt.show()"
   ]
  },
  {
   "cell_type": "code",
   "execution_count": 41,
   "id": "cdf7e710-d5de-4a5a-913a-af6d8f807df5",
   "metadata": {},
   "outputs": [],
   "source": [
    "d_test = xtest_day\n",
    "dt = d_test.copy(deep=True)\n",
    "d_test = torch.tensor(d_test.values.astype(np.float32))\n",
    "preds = model(d_test.to(device=device)).argmax(dim=1).cpu()\n",
    "dt[\"predicted_days_group_index\"] = preds\n",
    "dt"
   ]
  },
  {
   "cell_type": "code",
   "execution_count": 42,
   "id": "b77e045d-a7b7-47bf-b1e0-8936128ec27f",
   "metadata": {},
   "outputs": [],
   "source": [
    "days_tensor = torch.tensor(d_test[[\"weekday_name\", \"month\", \"output_year\", \"leap_year_condition\"]].values.astype(np.float32))\n",
    "preds = model(days_tensor.to(device=device))\n"
   ]
  },
  {
   "cell_type": "code",
   "execution_count": null,
   "id": "66548e8b-6d86-41ea-9324-c68afb7d58e3",
   "metadata": {},
   "outputs": [],
   "source": [
    "torch.save(model, \"../data/day_model_saved\")\n",
    "model = torch.load(\"../data/day_model_saved\")"
   ]
  },
  {
   "cell_type": "code",
   "execution_count": null,
   "id": "993839c3-cabd-4ba6-9142-9a8e374e471e",
   "metadata": {},
   "outputs": [],
   "source": [
    "dt.to_csv(\"../data/day_predections.csv\", header=True, index=True)"
   ]
  }
 ],
 "metadata": {
  "kernelspec": {
   "display_name": "Python 3 (ipykernel)",
   "language": "python",
   "name": "python3"
  },
  "language_info": {
   "codemirror_mode": {
    "name": "ipython",
    "version": 3
   },
   "file_extension": ".py",
   "mimetype": "text/x-python",
   "name": "python",
   "nbconvert_exporter": "python",
   "pygments_lexer": "ipython3",
   "version": "3.9.7"
  }
 },
 "nbformat": 4,
 "nbformat_minor": 5
}
