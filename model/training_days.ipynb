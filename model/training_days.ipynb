{
 "cells": [
  {
   "cell_type": "code",
   "execution_count": 1,
   "id": "d0ec34b8-0bb3-487e-9d11-98ffa61a0502",
   "metadata": {},
   "outputs": [],
   "source": [
    "import numpy as np\n",
    "import pandas as pd\n",
    "import torch\n",
    "import torch.nn as nn\n",
    "import torch.nn.functional as F\n",
    "from torch.utils.data import Dataset, DataLoader, TensorDataset\n",
    "from sklearn.model_selection import train_test_split\n",
    "from imblearn.over_sampling import RandomOverSampler\n",
    "import random\n",
    "import time\n",
    "from tqdm import tqdm\n",
    "from matplotlib import pyplot as plt\n",
    "from pprint import pprint"
   ]
  },
  {
   "cell_type": "code",
   "execution_count": 2,
   "id": "3c459028-3062-46c6-8dbc-f2baa9467137",
   "metadata": {},
   "outputs": [],
   "source": [
    "device = torch.device(\"cuda\" if torch.cuda.is_available() else \"cpu\")\n",
    "\n",
    "\n",
    "# fix random number generation aka regenerate the same random numbers every time (such as weight and bias initialization )\n",
    "def set_random_seed(seed=7, deterministic=True):\n",
    "    \"\"\"Set random seed, for python, numpy, pytorch\n",
    "\n",
    "    Args:\n",
    "        seed (int): Seed to be used.\n",
    "        deterministic (bool): Whether to set the deterministic option for\n",
    "            CUDNN backend, i.e., set `torch.backends.cudnn.deterministic`\n",
    "            to True and `torch.backends.cudnn.benchmark` to False.\n",
    "            Default: True.\n",
    "    \"\"\"\n",
    "    random.seed(seed)\n",
    "    np.random.seed(seed)\n",
    "    torch.manual_seed(seed)\n",
    "    torch.cuda.manual_seed_all(seed)\n",
    "    if deterministic:\n",
    "        torch.backends.cudnn.deterministic = True\n",
    "        torch.backends.cudnn.benchmark = False \n",
    "seed=7        \n",
    "set_random_seed(seed=seed)"
   ]
  },
  {
   "cell_type": "code",
   "execution_count": 3,
   "id": "2f19486a-ed28-4936-86d3-2fd667902629",
   "metadata": {},
   "outputs": [
    {
     "data": {
      "text/html": [
       "<div>\n",
       "<style scoped>\n",
       "    .dataframe tbody tr th:only-of-type {\n",
       "        vertical-align: middle;\n",
       "    }\n",
       "\n",
       "    .dataframe tbody tr th {\n",
       "        vertical-align: top;\n",
       "    }\n",
       "\n",
       "    .dataframe thead th {\n",
       "        text-align: right;\n",
       "    }\n",
       "</style>\n",
       "<table border=\"1\" class=\"dataframe\">\n",
       "  <thead>\n",
       "    <tr style=\"text-align: right;\">\n",
       "      <th></th>\n",
       "      <th>weekday_name</th>\n",
       "      <th>month</th>\n",
       "      <th>leap_year_condition</th>\n",
       "      <th>decade</th>\n",
       "      <th>output</th>\n",
       "      <th>output_year_digit</th>\n",
       "      <th>output_year</th>\n",
       "      <th>valid_years_list</th>\n",
       "      <th>valid_day_list</th>\n",
       "      <th>decade4</th>\n",
       "      <th>decade100</th>\n",
       "      <th>decade400</th>\n",
       "      <th>valid_group_days_index</th>\n",
       "    </tr>\n",
       "  </thead>\n",
       "  <tbody>\n",
       "    <tr>\n",
       "      <th>0</th>\n",
       "      <td>2</td>\n",
       "      <td>1</td>\n",
       "      <td>0</td>\n",
       "      <td>180</td>\n",
       "      <td>1-1-1800</td>\n",
       "      <td>0</td>\n",
       "      <td>1800</td>\n",
       "      <td>[0, 1, 2, 3, 5, 6, 7, 9]</td>\n",
       "      <td>[1, 8, 15, 22, 29]</td>\n",
       "      <td>0</td>\n",
       "      <td>0</td>\n",
       "      <td>1</td>\n",
       "      <td>7</td>\n",
       "    </tr>\n",
       "    <tr>\n",
       "      <th>1</th>\n",
       "      <td>3</td>\n",
       "      <td>1</td>\n",
       "      <td>0</td>\n",
       "      <td>180</td>\n",
       "      <td>1-1-1801</td>\n",
       "      <td>1</td>\n",
       "      <td>1801</td>\n",
       "      <td>[0, 1, 2, 3, 5, 6, 7, 9]</td>\n",
       "      <td>[1, 8, 15, 22, 29]</td>\n",
       "      <td>0</td>\n",
       "      <td>0</td>\n",
       "      <td>1</td>\n",
       "      <td>7</td>\n",
       "    </tr>\n",
       "    <tr>\n",
       "      <th>2</th>\n",
       "      <td>4</td>\n",
       "      <td>1</td>\n",
       "      <td>0</td>\n",
       "      <td>180</td>\n",
       "      <td>1-1-1802</td>\n",
       "      <td>2</td>\n",
       "      <td>1802</td>\n",
       "      <td>[0, 1, 2, 3, 5, 6, 7, 9]</td>\n",
       "      <td>[1, 8, 15, 22, 29]</td>\n",
       "      <td>0</td>\n",
       "      <td>0</td>\n",
       "      <td>1</td>\n",
       "      <td>7</td>\n",
       "    </tr>\n",
       "    <tr>\n",
       "      <th>3</th>\n",
       "      <td>5</td>\n",
       "      <td>1</td>\n",
       "      <td>0</td>\n",
       "      <td>180</td>\n",
       "      <td>1-1-1803</td>\n",
       "      <td>3</td>\n",
       "      <td>1803</td>\n",
       "      <td>[0, 1, 2, 3, 5, 6, 7, 9]</td>\n",
       "      <td>[1, 8, 15, 22, 29]</td>\n",
       "      <td>0</td>\n",
       "      <td>0</td>\n",
       "      <td>1</td>\n",
       "      <td>7</td>\n",
       "    </tr>\n",
       "    <tr>\n",
       "      <th>4</th>\n",
       "      <td>6</td>\n",
       "      <td>1</td>\n",
       "      <td>1</td>\n",
       "      <td>180</td>\n",
       "      <td>1-1-1804</td>\n",
       "      <td>4</td>\n",
       "      <td>1804</td>\n",
       "      <td>[4, 8, 4, 4, 4, 4, 4, 4]</td>\n",
       "      <td>[1, 8, 15, 22, 29]</td>\n",
       "      <td>0</td>\n",
       "      <td>0</td>\n",
       "      <td>1</td>\n",
       "      <td>7</td>\n",
       "    </tr>\n",
       "    <tr>\n",
       "      <th>5</th>\n",
       "      <td>1</td>\n",
       "      <td>1</td>\n",
       "      <td>0</td>\n",
       "      <td>180</td>\n",
       "      <td>1-1-1805</td>\n",
       "      <td>5</td>\n",
       "      <td>1805</td>\n",
       "      <td>[0, 1, 2, 3, 5, 6, 7, 9]</td>\n",
       "      <td>[1, 8, 15, 22, 29]</td>\n",
       "      <td>0</td>\n",
       "      <td>0</td>\n",
       "      <td>1</td>\n",
       "      <td>7</td>\n",
       "    </tr>\n",
       "    <tr>\n",
       "      <th>6</th>\n",
       "      <td>2</td>\n",
       "      <td>1</td>\n",
       "      <td>0</td>\n",
       "      <td>180</td>\n",
       "      <td>1-1-1806</td>\n",
       "      <td>6</td>\n",
       "      <td>1806</td>\n",
       "      <td>[0, 1, 2, 3, 5, 6, 7, 9]</td>\n",
       "      <td>[1, 8, 15, 22, 29]</td>\n",
       "      <td>0</td>\n",
       "      <td>0</td>\n",
       "      <td>1</td>\n",
       "      <td>7</td>\n",
       "    </tr>\n",
       "  </tbody>\n",
       "</table>\n",
       "</div>"
      ],
      "text/plain": [
       "   weekday_name  month  leap_year_condition  decade    output  \\\n",
       "0             2      1                    0     180  1-1-1800   \n",
       "1             3      1                    0     180  1-1-1801   \n",
       "2             4      1                    0     180  1-1-1802   \n",
       "3             5      1                    0     180  1-1-1803   \n",
       "4             6      1                    1     180  1-1-1804   \n",
       "5             1      1                    0     180  1-1-1805   \n",
       "6             2      1                    0     180  1-1-1806   \n",
       "\n",
       "   output_year_digit  output_year          valid_years_list  \\\n",
       "0                  0         1800  [0, 1, 2, 3, 5, 6, 7, 9]   \n",
       "1                  1         1801  [0, 1, 2, 3, 5, 6, 7, 9]   \n",
       "2                  2         1802  [0, 1, 2, 3, 5, 6, 7, 9]   \n",
       "3                  3         1803  [0, 1, 2, 3, 5, 6, 7, 9]   \n",
       "4                  4         1804  [4, 8, 4, 4, 4, 4, 4, 4]   \n",
       "5                  5         1805  [0, 1, 2, 3, 5, 6, 7, 9]   \n",
       "6                  6         1806  [0, 1, 2, 3, 5, 6, 7, 9]   \n",
       "\n",
       "       valid_day_list  decade4  decade100  decade400  valid_group_days_index  \n",
       "0  [1, 8, 15, 22, 29]        0          0          1                       7  \n",
       "1  [1, 8, 15, 22, 29]        0          0          1                       7  \n",
       "2  [1, 8, 15, 22, 29]        0          0          1                       7  \n",
       "3  [1, 8, 15, 22, 29]        0          0          1                       7  \n",
       "4  [1, 8, 15, 22, 29]        0          0          1                       7  \n",
       "5  [1, 8, 15, 22, 29]        0          0          1                       7  \n",
       "6  [1, 8, 15, 22, 29]        0          0          1                       7  "
      ]
     },
     "execution_count": 3,
     "metadata": {},
     "output_type": "execute_result"
    }
   ],
   "source": [
    "df = pd.read_csv(\"../data/data.csv\")\n",
    "df.head(7)"
   ]
  },
  {
   "cell_type": "markdown",
   "id": "d4051fc1-2734-4548-9329-1d083a98f389",
   "metadata": {},
   "source": [
    "- given the columns features we can't by any means diffrentiate between the day 1 or day 8 or 15 or 22 or 28 because they may share the same exact feature columns values and they all still correct, and the model see them all as the same thing, so i make lists for the identical days from the feature columns point of view, and instead of training the model to select certain day, i trained the model to select index of days-list which i named \"groups\", as example if the output of the model is 0 then it equivalent to selecting any day from these days [1, 8, 15, 22], if the output is 1 so it's equivalent to selecting any number from [2, 9, 16, 23] and so on(see groups_dict dictionary)"
   ]
  },
  {
   "cell_type": "code",
   "execution_count": 4,
   "id": "00bb579d-7822-4ee1-acca-a13fe49ac40e",
   "metadata": {},
   "outputs": [
    {
     "data": {
      "text/plain": [
       "{0: [1, 8, 15, 22],\n",
       " 1: [2, 9, 16, 23],\n",
       " 2: [3, 10, 17, 24],\n",
       " 3: [4, 11, 18, 25],\n",
       " 4: [5, 12, 19, 26],\n",
       " 5: [6, 13, 20, 27],\n",
       " 6: [7, 14, 21, 28],\n",
       " 7: [1, 8, 15, 22, 29],\n",
       " 8: [2, 9, 16, 23, 30],\n",
       " 9: [3, 10, 17, 24, 31]}"
      ]
     },
     "execution_count": 4,
     "metadata": {},
     "output_type": "execute_result"
    }
   ],
   "source": [
    "# list of all possibole (10) output lists, the output must be one of theses lists\n",
    "groups = [[1, 8, 15, 22], \n",
    "         [2, 9, 16, 23], \n",
    "         [3, 10, 17, 24], \n",
    "         [4, 11, 18, 25], \n",
    "         [5, 12, 19, 26], \n",
    "         [6, 13, 20, 27], \n",
    "         [7, 14, 21, 28],\n",
    "         [1, 8, 15, 22, 29], \n",
    "         [2, 9, 16, 23, 30], \n",
    "         [3, 10, 17, 24, 31]]\n",
    "groups_dict = dict(enumerate(groups))\n",
    "groups_dict"
   ]
  },
  {
   "cell_type": "markdown",
   "id": "af5166d6-4cd8-4e9d-81f7-946c9d4820de",
   "metadata": {},
   "source": [
    "**B- training for getting the day**"
   ]
  },
  {
   "cell_type": "code",
   "execution_count": 5,
   "id": "a09d7594-25e6-44c6-a479-8eda01194a9d",
   "metadata": {},
   "outputs": [
    {
     "data": {
      "text/html": [
       "<div>\n",
       "<style scoped>\n",
       "    .dataframe tbody tr th:only-of-type {\n",
       "        vertical-align: middle;\n",
       "    }\n",
       "\n",
       "    .dataframe tbody tr th {\n",
       "        vertical-align: top;\n",
       "    }\n",
       "\n",
       "    .dataframe thead th {\n",
       "        text-align: right;\n",
       "    }\n",
       "</style>\n",
       "<table border=\"1\" class=\"dataframe\">\n",
       "  <thead>\n",
       "    <tr style=\"text-align: right;\">\n",
       "      <th></th>\n",
       "      <th>weekday_name</th>\n",
       "      <th>month</th>\n",
       "      <th>output_year</th>\n",
       "      <th>leap_year_condition</th>\n",
       "      <th>valid_group_days_index</th>\n",
       "    </tr>\n",
       "  </thead>\n",
       "  <tbody>\n",
       "    <tr>\n",
       "      <th>0</th>\n",
       "      <td>2</td>\n",
       "      <td>1</td>\n",
       "      <td>1800</td>\n",
       "      <td>0</td>\n",
       "      <td>7</td>\n",
       "    </tr>\n",
       "    <tr>\n",
       "      <th>1</th>\n",
       "      <td>3</td>\n",
       "      <td>1</td>\n",
       "      <td>1801</td>\n",
       "      <td>0</td>\n",
       "      <td>7</td>\n",
       "    </tr>\n",
       "    <tr>\n",
       "      <th>2</th>\n",
       "      <td>4</td>\n",
       "      <td>1</td>\n",
       "      <td>1802</td>\n",
       "      <td>0</td>\n",
       "      <td>7</td>\n",
       "    </tr>\n",
       "    <tr>\n",
       "      <th>3</th>\n",
       "      <td>5</td>\n",
       "      <td>1</td>\n",
       "      <td>1803</td>\n",
       "      <td>0</td>\n",
       "      <td>7</td>\n",
       "    </tr>\n",
       "    <tr>\n",
       "      <th>4</th>\n",
       "      <td>6</td>\n",
       "      <td>1</td>\n",
       "      <td>1804</td>\n",
       "      <td>1</td>\n",
       "      <td>7</td>\n",
       "    </tr>\n",
       "  </tbody>\n",
       "</table>\n",
       "</div>"
      ],
      "text/plain": [
       "   weekday_name  month  output_year  leap_year_condition  \\\n",
       "0             2      1         1800                    0   \n",
       "1             3      1         1801                    0   \n",
       "2             4      1         1802                    0   \n",
       "3             5      1         1803                    0   \n",
       "4             6      1         1804                    1   \n",
       "\n",
       "   valid_group_days_index  \n",
       "0                       7  \n",
       "1                       7  \n",
       "2                       7  \n",
       "3                       7  \n",
       "4                       7  "
      ]
     },
     "execution_count": 5,
     "metadata": {},
     "output_type": "execute_result"
    }
   ],
   "source": [
    "df[[\"weekday_name\", \"month\", \"output_year\", \"leap_year_condition\", \"valid_group_days_index\"]].head()"
   ]
  },
  {
   "cell_type": "markdown",
   "id": "89d8b36a-7f42-4c84-9717-1d64937a4fd6",
   "metadata": {},
   "source": [
    "**it's obvious that values if the output_year column is very high, and if i train the model this column will dominate the calculations, i need to make standardrization or normalization step, but as i need this value as it, i will do another thing, i will divide this column into two columns, century column and year column to reduce the influence of this column over the network**"
   ]
  },
  {
   "cell_type": "code",
   "execution_count": 6,
   "id": "c19817ba-e184-40dc-a55a-7fbe72a337af",
   "metadata": {},
   "outputs": [],
   "source": [
    "# df[\"century\"] = df.output_year//100\n",
    "# df[\"century_decade\"] = (df.output_year//10)-(df[\"century\"]*10)\n",
    "# df[\"decade_year\"] = df.output_year-(df.output_year//10)*10\n",
    "# df[\"century\"] = df.century-df.century.min()\n",
    "# x_day = df[[\"weekday_name\", \"month\", \"century\", \"century_decade\", \"decade_year\", \"leap_year_condition\", \"valid_group_days_index\"]]\n",
    "# df[\"century\"].unique(), df[\"decade_year\"].unique(), df[\"century_decade\"].unique()"
   ]
  },
  {
   "cell_type": "code",
   "execution_count": 7,
   "id": "9340505e-cf4c-4b2b-bd16-c83f5cda78a6",
   "metadata": {},
   "outputs": [
    {
     "data": {
      "text/plain": [
       "(array([0, 1, 2, 3, 4], dtype=int64),\n",
       " array([0. , 0.1, 0.2, 0.3, 0.4, 0.5, 0.6, 0.7, 0.8, 0.9, 1. , 1.1, 1.2,\n",
       "        1.3, 1.4, 1.5, 1.6, 1.7, 1.8, 1.9, 2. , 2.1, 2.2, 2.3, 2.4, 2.5,\n",
       "        2.6, 2.7, 2.8, 2.9, 3. , 3.1, 3.2, 3.3, 3.4, 3.5, 3.6, 3.7, 3.8,\n",
       "        3.9, 4. , 4.1, 4.2, 4.3, 4.4, 4.5, 4.6, 4.7, 4.8, 4.9, 5. , 5.1,\n",
       "        5.2, 5.3, 5.4, 5.5, 5.6, 5.7, 5.8, 5.9, 6. , 6.1, 6.2, 6.3, 6.4,\n",
       "        6.5, 6.6, 6.7, 6.8, 6.9, 7. , 7.1, 7.2, 7.3, 7.4, 7.5, 7.6, 7.7,\n",
       "        7.8, 7.9, 8. , 8.1, 8.2, 8.3, 8.4, 8.5, 8.6, 8.7, 8.8, 8.9, 9. ,\n",
       "        9.1, 9.2, 9.3, 9.4, 9.5, 9.6, 9.7, 9.8, 9.9]))"
      ]
     },
     "execution_count": 7,
     "metadata": {},
     "output_type": "execute_result"
    }
   ],
   "source": [
    "df[\"century\"] = df.output_year//100\n",
    "df[\"century_year\"] = df.output_year-df[\"century\"]*100\n",
    "df[\"century_year\"] = df[\"century_year\"]/10\n",
    "df[\"century\"] = df.century-df.century.min()\n",
    "x_day = df[[\"weekday_name\", \"month\", \"century\", \"century_year\", \"leap_year_condition\", \"valid_group_days_index\"]]\n",
    "df[\"century\"].unique(), df[\"century_year\"].unique()"
   ]
  },
  {
   "cell_type": "code",
   "execution_count": 8,
   "id": "86615e53-2f20-436d-8f1c-c3ee4b947bd3",
   "metadata": {},
   "outputs": [
    {
     "data": {
      "text/html": [
       "<div>\n",
       "<style scoped>\n",
       "    .dataframe tbody tr th:only-of-type {\n",
       "        vertical-align: middle;\n",
       "    }\n",
       "\n",
       "    .dataframe tbody tr th {\n",
       "        vertical-align: top;\n",
       "    }\n",
       "\n",
       "    .dataframe thead th {\n",
       "        text-align: right;\n",
       "    }\n",
       "</style>\n",
       "<table border=\"1\" class=\"dataframe\">\n",
       "  <thead>\n",
       "    <tr style=\"text-align: right;\">\n",
       "      <th></th>\n",
       "      <th>weekday_name</th>\n",
       "      <th>month</th>\n",
       "      <th>century</th>\n",
       "      <th>century_year</th>\n",
       "      <th>leap_year_condition</th>\n",
       "      <th>valid_group_days_index</th>\n",
       "    </tr>\n",
       "  </thead>\n",
       "  <tbody>\n",
       "    <tr>\n",
       "      <th>0</th>\n",
       "      <td>2</td>\n",
       "      <td>1</td>\n",
       "      <td>0</td>\n",
       "      <td>0.0</td>\n",
       "      <td>0</td>\n",
       "      <td>7</td>\n",
       "    </tr>\n",
       "    <tr>\n",
       "      <th>1</th>\n",
       "      <td>3</td>\n",
       "      <td>1</td>\n",
       "      <td>0</td>\n",
       "      <td>0.1</td>\n",
       "      <td>0</td>\n",
       "      <td>7</td>\n",
       "    </tr>\n",
       "    <tr>\n",
       "      <th>2</th>\n",
       "      <td>4</td>\n",
       "      <td>1</td>\n",
       "      <td>0</td>\n",
       "      <td>0.2</td>\n",
       "      <td>0</td>\n",
       "      <td>7</td>\n",
       "    </tr>\n",
       "    <tr>\n",
       "      <th>3</th>\n",
       "      <td>5</td>\n",
       "      <td>1</td>\n",
       "      <td>0</td>\n",
       "      <td>0.3</td>\n",
       "      <td>0</td>\n",
       "      <td>7</td>\n",
       "    </tr>\n",
       "    <tr>\n",
       "      <th>4</th>\n",
       "      <td>6</td>\n",
       "      <td>1</td>\n",
       "      <td>0</td>\n",
       "      <td>0.4</td>\n",
       "      <td>1</td>\n",
       "      <td>7</td>\n",
       "    </tr>\n",
       "  </tbody>\n",
       "</table>\n",
       "</div>"
      ],
      "text/plain": [
       "   weekday_name  month  century  century_year  leap_year_condition  \\\n",
       "0             2      1        0           0.0                    0   \n",
       "1             3      1        0           0.1                    0   \n",
       "2             4      1        0           0.2                    0   \n",
       "3             5      1        0           0.3                    0   \n",
       "4             6      1        0           0.4                    1   \n",
       "\n",
       "   valid_group_days_index  \n",
       "0                       7  \n",
       "1                       7  \n",
       "2                       7  \n",
       "3                       7  \n",
       "4                       7  "
      ]
     },
     "execution_count": 8,
     "metadata": {},
     "output_type": "execute_result"
    }
   ],
   "source": [
    "x_day.head()"
   ]
  },
  {
   "cell_type": "code",
   "execution_count": 56,
   "id": "b81ec24f-8c99-4736-9009-9470a1f2a927",
   "metadata": {},
   "outputs": [
    {
     "ename": "KeyError",
     "evalue": "'valid_group_days_index'",
     "output_type": "error",
     "traceback": [
      "\u001b[1;31m---------------------------------------------------------------------------\u001b[0m",
      "\u001b[1;31mKeyError\u001b[0m                                  Traceback (most recent call last)",
      "\u001b[1;32m~\\anaconda3\\lib\\site-packages\\pandas\\core\\indexes\\base.py\u001b[0m in \u001b[0;36mget_loc\u001b[1;34m(self, key, method, tolerance)\u001b[0m\n\u001b[0;32m   3360\u001b[0m             \u001b[1;32mtry\u001b[0m\u001b[1;33m:\u001b[0m\u001b[1;33m\u001b[0m\u001b[1;33m\u001b[0m\u001b[0m\n\u001b[1;32m-> 3361\u001b[1;33m                 \u001b[1;32mreturn\u001b[0m \u001b[0mself\u001b[0m\u001b[1;33m.\u001b[0m\u001b[0m_engine\u001b[0m\u001b[1;33m.\u001b[0m\u001b[0mget_loc\u001b[0m\u001b[1;33m(\u001b[0m\u001b[0mcasted_key\u001b[0m\u001b[1;33m)\u001b[0m\u001b[1;33m\u001b[0m\u001b[1;33m\u001b[0m\u001b[0m\n\u001b[0m\u001b[0;32m   3362\u001b[0m             \u001b[1;32mexcept\u001b[0m \u001b[0mKeyError\u001b[0m \u001b[1;32mas\u001b[0m \u001b[0merr\u001b[0m\u001b[1;33m:\u001b[0m\u001b[1;33m\u001b[0m\u001b[1;33m\u001b[0m\u001b[0m\n",
      "\u001b[1;32m~\\anaconda3\\lib\\site-packages\\pandas\\_libs\\index.pyx\u001b[0m in \u001b[0;36mpandas._libs.index.IndexEngine.get_loc\u001b[1;34m()\u001b[0m\n",
      "\u001b[1;32m~\\anaconda3\\lib\\site-packages\\pandas\\_libs\\index.pyx\u001b[0m in \u001b[0;36mpandas._libs.index.IndexEngine.get_loc\u001b[1;34m()\u001b[0m\n",
      "\u001b[1;32mpandas\\_libs\\hashtable_class_helper.pxi\u001b[0m in \u001b[0;36mpandas._libs.hashtable.PyObjectHashTable.get_item\u001b[1;34m()\u001b[0m\n",
      "\u001b[1;32mpandas\\_libs\\hashtable_class_helper.pxi\u001b[0m in \u001b[0;36mpandas._libs.hashtable.PyObjectHashTable.get_item\u001b[1;34m()\u001b[0m\n",
      "\u001b[1;31mKeyError\u001b[0m: 'valid_group_days_index'",
      "\nThe above exception was the direct cause of the following exception:\n",
      "\u001b[1;31mKeyError\u001b[0m                                  Traceback (most recent call last)",
      "\u001b[1;32m~\\AppData\\Local\\Temp/ipykernel_11760/2100648792.py\u001b[0m in \u001b[0;36m<module>\u001b[1;34m\u001b[0m\n\u001b[1;32m----> 1\u001b[1;33m \u001b[0my_day\u001b[0m \u001b[1;33m=\u001b[0m \u001b[0mx_day\u001b[0m\u001b[1;33m.\u001b[0m\u001b[0mpop\u001b[0m\u001b[1;33m(\u001b[0m\u001b[1;34m\"valid_group_days_index\"\u001b[0m\u001b[1;33m)\u001b[0m \u001b[1;31m# from 0 to 9\u001b[0m\u001b[1;33m\u001b[0m\u001b[1;33m\u001b[0m\u001b[0m\n\u001b[0m",
      "\u001b[1;32m~\\anaconda3\\lib\\site-packages\\pandas\\core\\frame.py\u001b[0m in \u001b[0;36mpop\u001b[1;34m(self, item)\u001b[0m\n\u001b[0;32m   5224\u001b[0m         \u001b[1;36m3\u001b[0m  \u001b[0mmonkey\u001b[0m        \u001b[0mNaN\u001b[0m\u001b[1;33m\u001b[0m\u001b[1;33m\u001b[0m\u001b[0m\n\u001b[0;32m   5225\u001b[0m         \"\"\"\n\u001b[1;32m-> 5226\u001b[1;33m         \u001b[1;32mreturn\u001b[0m \u001b[0msuper\u001b[0m\u001b[1;33m(\u001b[0m\u001b[1;33m)\u001b[0m\u001b[1;33m.\u001b[0m\u001b[0mpop\u001b[0m\u001b[1;33m(\u001b[0m\u001b[0mitem\u001b[0m\u001b[1;33m=\u001b[0m\u001b[0mitem\u001b[0m\u001b[1;33m)\u001b[0m\u001b[1;33m\u001b[0m\u001b[1;33m\u001b[0m\u001b[0m\n\u001b[0m\u001b[0;32m   5227\u001b[0m \u001b[1;33m\u001b[0m\u001b[0m\n\u001b[0;32m   5228\u001b[0m     \u001b[1;33m@\u001b[0m\u001b[0mdoc\u001b[0m\u001b[1;33m(\u001b[0m\u001b[0mNDFrame\u001b[0m\u001b[1;33m.\u001b[0m\u001b[0mreplace\u001b[0m\u001b[1;33m,\u001b[0m \u001b[1;33m**\u001b[0m\u001b[0m_shared_doc_kwargs\u001b[0m\u001b[1;33m)\u001b[0m\u001b[1;33m\u001b[0m\u001b[1;33m\u001b[0m\u001b[0m\n",
      "\u001b[1;32m~\\anaconda3\\lib\\site-packages\\pandas\\core\\generic.py\u001b[0m in \u001b[0;36mpop\u001b[1;34m(self, item)\u001b[0m\n\u001b[0;32m    868\u001b[0m \u001b[1;33m\u001b[0m\u001b[0m\n\u001b[0;32m    869\u001b[0m     \u001b[1;32mdef\u001b[0m \u001b[0mpop\u001b[0m\u001b[1;33m(\u001b[0m\u001b[0mself\u001b[0m\u001b[1;33m,\u001b[0m \u001b[0mitem\u001b[0m\u001b[1;33m:\u001b[0m \u001b[0mHashable\u001b[0m\u001b[1;33m)\u001b[0m \u001b[1;33m->\u001b[0m \u001b[0mSeries\u001b[0m \u001b[1;33m|\u001b[0m \u001b[0mAny\u001b[0m\u001b[1;33m:\u001b[0m\u001b[1;33m\u001b[0m\u001b[1;33m\u001b[0m\u001b[0m\n\u001b[1;32m--> 870\u001b[1;33m         \u001b[0mresult\u001b[0m \u001b[1;33m=\u001b[0m \u001b[0mself\u001b[0m\u001b[1;33m[\u001b[0m\u001b[0mitem\u001b[0m\u001b[1;33m]\u001b[0m\u001b[1;33m\u001b[0m\u001b[1;33m\u001b[0m\u001b[0m\n\u001b[0m\u001b[0;32m    871\u001b[0m         \u001b[1;32mdel\u001b[0m \u001b[0mself\u001b[0m\u001b[1;33m[\u001b[0m\u001b[0mitem\u001b[0m\u001b[1;33m]\u001b[0m\u001b[1;33m\u001b[0m\u001b[1;33m\u001b[0m\u001b[0m\n\u001b[0;32m    872\u001b[0m \u001b[1;33m\u001b[0m\u001b[0m\n",
      "\u001b[1;32m~\\anaconda3\\lib\\site-packages\\pandas\\core\\frame.py\u001b[0m in \u001b[0;36m__getitem__\u001b[1;34m(self, key)\u001b[0m\n\u001b[0;32m   3456\u001b[0m             \u001b[1;32mif\u001b[0m \u001b[0mself\u001b[0m\u001b[1;33m.\u001b[0m\u001b[0mcolumns\u001b[0m\u001b[1;33m.\u001b[0m\u001b[0mnlevels\u001b[0m \u001b[1;33m>\u001b[0m \u001b[1;36m1\u001b[0m\u001b[1;33m:\u001b[0m\u001b[1;33m\u001b[0m\u001b[1;33m\u001b[0m\u001b[0m\n\u001b[0;32m   3457\u001b[0m                 \u001b[1;32mreturn\u001b[0m \u001b[0mself\u001b[0m\u001b[1;33m.\u001b[0m\u001b[0m_getitem_multilevel\u001b[0m\u001b[1;33m(\u001b[0m\u001b[0mkey\u001b[0m\u001b[1;33m)\u001b[0m\u001b[1;33m\u001b[0m\u001b[1;33m\u001b[0m\u001b[0m\n\u001b[1;32m-> 3458\u001b[1;33m             \u001b[0mindexer\u001b[0m \u001b[1;33m=\u001b[0m \u001b[0mself\u001b[0m\u001b[1;33m.\u001b[0m\u001b[0mcolumns\u001b[0m\u001b[1;33m.\u001b[0m\u001b[0mget_loc\u001b[0m\u001b[1;33m(\u001b[0m\u001b[0mkey\u001b[0m\u001b[1;33m)\u001b[0m\u001b[1;33m\u001b[0m\u001b[1;33m\u001b[0m\u001b[0m\n\u001b[0m\u001b[0;32m   3459\u001b[0m             \u001b[1;32mif\u001b[0m \u001b[0mis_integer\u001b[0m\u001b[1;33m(\u001b[0m\u001b[0mindexer\u001b[0m\u001b[1;33m)\u001b[0m\u001b[1;33m:\u001b[0m\u001b[1;33m\u001b[0m\u001b[1;33m\u001b[0m\u001b[0m\n\u001b[0;32m   3460\u001b[0m                 \u001b[0mindexer\u001b[0m \u001b[1;33m=\u001b[0m \u001b[1;33m[\u001b[0m\u001b[0mindexer\u001b[0m\u001b[1;33m]\u001b[0m\u001b[1;33m\u001b[0m\u001b[1;33m\u001b[0m\u001b[0m\n",
      "\u001b[1;32m~\\anaconda3\\lib\\site-packages\\pandas\\core\\indexes\\base.py\u001b[0m in \u001b[0;36mget_loc\u001b[1;34m(self, key, method, tolerance)\u001b[0m\n\u001b[0;32m   3361\u001b[0m                 \u001b[1;32mreturn\u001b[0m \u001b[0mself\u001b[0m\u001b[1;33m.\u001b[0m\u001b[0m_engine\u001b[0m\u001b[1;33m.\u001b[0m\u001b[0mget_loc\u001b[0m\u001b[1;33m(\u001b[0m\u001b[0mcasted_key\u001b[0m\u001b[1;33m)\u001b[0m\u001b[1;33m\u001b[0m\u001b[1;33m\u001b[0m\u001b[0m\n\u001b[0;32m   3362\u001b[0m             \u001b[1;32mexcept\u001b[0m \u001b[0mKeyError\u001b[0m \u001b[1;32mas\u001b[0m \u001b[0merr\u001b[0m\u001b[1;33m:\u001b[0m\u001b[1;33m\u001b[0m\u001b[1;33m\u001b[0m\u001b[0m\n\u001b[1;32m-> 3363\u001b[1;33m                 \u001b[1;32mraise\u001b[0m \u001b[0mKeyError\u001b[0m\u001b[1;33m(\u001b[0m\u001b[0mkey\u001b[0m\u001b[1;33m)\u001b[0m \u001b[1;32mfrom\u001b[0m \u001b[0merr\u001b[0m\u001b[1;33m\u001b[0m\u001b[1;33m\u001b[0m\u001b[0m\n\u001b[0m\u001b[0;32m   3364\u001b[0m \u001b[1;33m\u001b[0m\u001b[0m\n\u001b[0;32m   3365\u001b[0m         \u001b[1;32mif\u001b[0m \u001b[0mis_scalar\u001b[0m\u001b[1;33m(\u001b[0m\u001b[0mkey\u001b[0m\u001b[1;33m)\u001b[0m \u001b[1;32mand\u001b[0m \u001b[0misna\u001b[0m\u001b[1;33m(\u001b[0m\u001b[0mkey\u001b[0m\u001b[1;33m)\u001b[0m \u001b[1;32mand\u001b[0m \u001b[1;32mnot\u001b[0m \u001b[0mself\u001b[0m\u001b[1;33m.\u001b[0m\u001b[0mhasnans\u001b[0m\u001b[1;33m:\u001b[0m\u001b[1;33m\u001b[0m\u001b[1;33m\u001b[0m\u001b[0m\n",
      "\u001b[1;31mKeyError\u001b[0m: 'valid_group_days_index'"
     ]
    }
   ],
   "source": [
    "y_day = x_day.pop(\"valid_group_days_index\") # from 0 to 9"
   ]
  },
  {
   "cell_type": "code",
   "execution_count": 10,
   "id": "fc1e5c94-b7b7-4809-8cd5-b9f7e12f8556",
   "metadata": {},
   "outputs": [
    {
     "name": "stdout",
     "output_type": "stream",
     "text": [
      "7    22540\n",
      "8    22055\n",
      "3    19248\n",
      "4    19248\n",
      "5    19248\n",
      "6    19248\n",
      "9    14035\n",
      "2     8020\n",
      "1     1604\n",
      "0     1216\n",
      "Name: valid_group_days_index, dtype: int64\n"
     ]
    },
    {
     "data": {
      "image/png": "[encoded data removed]",
      "text/plain": [
       "<Figure size 432x288 with 1 Axes>"
      ]
     },
     "metadata": {
      "needs_background": "light"
     },
     "output_type": "display_data"
    }
   ],
   "source": [
    "pprint(df.valid_group_days_index.value_counts())\n",
    "plt.bar(df.valid_group_days_index.value_counts().index, df.valid_group_days_index.value_counts())\n",
    "plt.xticks(range(10))\n",
    "plt.grid(axis=\"y\")\n",
    "plt.show()"
   ]
  },
  {
   "cell_type": "markdown",
   "id": "a04053cb-4c77-4f69-95cc-16043a2fafb3",
   "metadata": {},
   "source": [
    "**the output column is imbalanced**"
   ]
  },
  {
   "cell_type": "code",
   "execution_count": 11,
   "id": "1cb837f1-a80b-4e7a-bca5-57c92b4f1797",
   "metadata": {},
   "outputs": [],
   "source": [
    "# splitting the data\n",
    "xtrain_day, xtest_day, ytrain_day, ytest_day = train_test_split(x_day, y_day, \n",
    "                                                                test_size=0.19, \n",
    "                                                                shuffle=True, \n",
    "                                                                random_state=seed, \n",
    "                                                                stratify=df.valid_group_days_index)\n",
    "\n",
    "# make oversampling to fix the imbalanced classes\n",
    "ros = RandomOverSampler(random_state=7)\n",
    "x_day_train_sampld, y_day_train_sampld = ros.fit_resample(xtrain_day, ytrain_day)"
   ]
  },
  {
   "cell_type": "code",
   "execution_count": 12,
   "id": "e3038cc7-d402-42ad-add0-ee54ac269569",
   "metadata": {},
   "outputs": [
    {
     "name": "stdout",
     "output_type": "stream",
     "text": [
      "ytrain_day = 118k,\n",
      "ytest_day=27k, \n",
      "y_day_train_sampld=182k\n"
     ]
    }
   ],
   "source": [
    "print(f\"ytrain_day = {len(ytrain_day)//1000}k,\\nytest_day = {len(ytest_day)//1000}k, \\ny_day_train_sampld = {len(x_day_train_sampld)//1000}k\")"
   ]
  },
  {
   "cell_type": "code",
   "execution_count": 13,
   "id": "d4b065c9-defb-4b89-ae78-04eec2314bdb",
   "metadata": {},
   "outputs": [
    {
     "name": "stdout",
     "output_type": "stream",
     "text": [
      "6    18257\n",
      "9    18257\n",
      "5    18257\n",
      "2    18257\n",
      "4    18257\n",
      "8    18257\n",
      "7    18257\n",
      "3    18257\n",
      "1    18257\n",
      "0    18257\n",
      "Name: valid_group_days_index, dtype: int64\n"
     ]
    },
    {
     "data": {
      "image/png": "[encoded data removed]",
      "text/plain": [
       "<Figure size 432x288 with 1 Axes>"
      ]
     },
     "metadata": {
      "needs_background": "light"
     },
     "output_type": "display_data"
    }
   ],
   "source": [
    "#**after oversampling**\n",
    "pprint(y_day_train_sampld.value_counts())\n",
    "plt.bar(y_day_train_sampld.value_counts().index, y_day_train_sampld.value_counts())\n",
    "plt.xticks(range(10))\n",
    "plt.grid(axis=\"y\")\n",
    "plt.show()"
   ]
  },
  {
   "cell_type": "code",
   "execution_count": 14,
   "id": "23b2b2c3-33d8-4e16-b680-124fea70d5c0",
   "metadata": {},
   "outputs": [],
   "source": [
    "class CollectedData(Dataset):\n",
    "    def __init__(self, x, y):\n",
    "        self.data = torch.tensor(x.values.astype(np.float32))\n",
    "        self.label = torch.tensor(y.values)\n",
    "        self.n_smpl = x.shape[0]\n",
    "        \n",
    "        \n",
    "    def __getitem__(self, idx):\n",
    "        return self.data[idx], self.label[idx]\n",
    "    \n",
    "    def __len__(self):\n",
    "        return self.n_smpl    \n",
    "    \n",
    "train_set_day = CollectedData(x_day_train_sampld, y_day_train_sampld)\n",
    "test_set_day = CollectedData(xtest_day, ytest_day)    "
   ]
  },
  {
   "cell_type": "code",
   "execution_count": 15,
   "id": "4a6a1a0d-2e8d-4a7a-b0a3-b1f7cac61d9f",
   "metadata": {},
   "outputs": [],
   "source": [
    "## random_split() isn't suitable here, so that i used train_test_split function\n",
    "# # train_set, test_set = torch.utils.data.random_split(dataset, [len(dataset)-test_len, int(len(dataset)*0.2)])\n",
    "\n",
    "# train_labels_day = torch.tensor(ytrain_day.values.astype(np.float32)) \n",
    "# test_labels_day = torch.tensor(ytest_day.values.astype(np.float32)) \n",
    "# train_input_day = torch.tensor(xtrain_day.values.astype(np.float32)) \n",
    "# test_input_day = torch.tensor(xtest_day.values.astype(np.float32)) \n",
    "\n",
    "# train_set_day = TensorDataset(train_input_day, train_labels_day)\n",
    "# test_set_day = TensorDataset(test_input_day, test_labels_day)\n"
   ]
  },
  {
   "cell_type": "code",
   "execution_count": 16,
   "id": "e4471f16-2365-482e-9381-ec6f16ab3981",
   "metadata": {},
   "outputs": [],
   "source": [
    "batch_size = 128\n",
    "\n",
    "train_loader_day = DataLoader(dataset=train_set_day, shuffle=True, batch_size=batch_size)\n",
    "test_loader_day = DataLoader(dataset=test_set_day, batch_size=batch_size) "
   ]
  },
  {
   "cell_type": "code",
   "execution_count": 17,
   "id": "0569ef04-1b22-4be1-87b5-2fd7bc29e6b9",
   "metadata": {},
   "outputs": [],
   "source": [
    "class network(nn.Module):\n",
    "    def __init__(self, in_features=5, out_features=10):\n",
    "        super().__init__()\n",
    "        self.fc1 = nn.Linear(in_features, 24)\n",
    "        self.fc2 = nn.Linear(24, 20)\n",
    "        self.fc3 = nn.Linear(20, 20)\n",
    "        self.fc4 = nn.Linear(20, 21)\n",
    "        self.fc5 = nn.Linear(21, 14)\n",
    "        self.fc6 = nn.Linear(14, out_features) \n",
    "        self.initialize_weights()\n",
    "        \n",
    "        \n",
    "    def forward(self, inpt):\n",
    "        out = F.relu(self.fc1(inpt))\n",
    "        out = F.relu(self.fc2(out))\n",
    "        out = F.leaky_relu(self.fc3(out))\n",
    "        out = F.leaky_relu(self.fc4(out))\n",
    "        out = F.leaky_relu(self.fc5(out))\n",
    "        out = ((self.fc6(out)))\n",
    "        return out\n",
    "    \n",
    "    def initialize_weights(self):\n",
    "        for m in self.modules():\n",
    "            if isinstance(m, nn.Linear):\n",
    "                nn.init.kaiming_uniform_(m.weight)\n",
    "                nn.init.constant_(m.bias, 0)"
   ]
  },
  {
   "cell_type": "code",
   "execution_count": 18,
   "id": "243ae509-c237-4b62-ba60-c1b57ef3bd55",
   "metadata": {
    "tags": []
   },
   "outputs": [],
   "source": [
    "# calculating accuracy\n",
    "@torch.no_grad()\n",
    "def calculate_accuracy(model, data_loader=train_loader_day):\n",
    "    model.eval()\n",
    "    \n",
    "    num_correct, num_samples = 0, 0\n",
    "\n",
    "    for data, labels in data_loader:\n",
    "        \n",
    "        # transfering data to cuda\n",
    "        data = data.to(device=device)\n",
    "        labels = labels.to(device=device)\n",
    "                \n",
    "        preds = model(data)\n",
    "        num_correct += sum(list(preds.argmax(dim=1)==labels))\n",
    "        num_samples += len(labels)\n",
    "    accuracy = num_correct/num_samples\n",
    "    model.train()\n",
    "    return accuracy  "
   ]
  },
  {
   "cell_type": "code",
   "execution_count": 19,
   "id": "7acd5273-75d7-4238-9144-da877ba3dc34",
   "metadata": {},
   "outputs": [
    {
     "data": {
      "text/plain": [
       "network(\n",
       "  (fc1): Linear(in_features=5, out_features=24, bias=True)\n",
       "  (fc2): Linear(in_features=24, out_features=20, bias=True)\n",
       "  (fc3): Linear(in_features=20, out_features=20, bias=True)\n",
       "  (fc4): Linear(in_features=20, out_features=21, bias=True)\n",
       "  (fc5): Linear(in_features=21, out_features=14, bias=True)\n",
       "  (fc6): Linear(in_features=14, out_features=10, bias=True)\n",
       ")"
      ]
     },
     "execution_count": 19,
     "metadata": {},
     "output_type": "execute_result"
    }
   ],
   "source": [
    "# initializing the model\n",
    "model = network(in_features=5, out_features=10).to(device)\n",
    "lr = 0.01\n",
    "# loss and optimizer initializing\n",
    "criterion = nn.CrossEntropyLoss()\n",
    "# criterion = nn.MSELoss()\n",
    "optimizer = torch.optim.Adam(model.parameters(), lr=lr)\n",
    "schedular = torch.optim.lr_scheduler.ReduceLROnPlateau(optimizer, factor=0.1, patience=75, verbose=True)\n",
    "model"
   ]
  },
  {
   "cell_type": "code",
   "execution_count": 25,
   "id": "261be555-e25f-4e65-83b4-5bc540157bb6",
   "metadata": {},
   "outputs": [
    {
     "name": "stdout",
     "output_type": "stream",
     "text": [
      "batch_size = 128 \n",
      " starting learning rate = 0.01 \n",
      " number of epochs = 11    \n",
      " number of batches = 1427 \n",
      " model = network(\n",
      "  (fc1): Linear(in_features=5, out_features=24, bias=True)\n",
      "  (fc2): Linear(in_features=24, out_features=20, bias=True)\n",
      "  (fc3): Linear(in_features=20, out_features=20, bias=True)\n",
      "  (fc4): Linear(in_features=20, out_features=21, bias=True)\n",
      "  (fc5): Linear(in_features=21, out_features=14, bias=True)\n",
      "  (fc6): Linear(in_features=14, out_features=10, bias=True)\n",
      "), \n",
      " criterion=CrossEntropyLoss(), \n",
      " optimizer=Adam (\n",
      "Parameter Group 0\n",
      "    amsgrad: False\n",
      "    betas: (0.9, 0.999)\n",
      "    capturable: False\n",
      "    eps: 1e-08\n",
      "    foreach: None\n",
      "    lr: 0.01\n",
      "    maximize: False\n",
      "    weight_decay: 0\n",
      ")\n"
     ]
    },
    {
     "name": "stderr",
     "output_type": "stream",
     "text": [
      "epoch [1/11], loss=1.8758: 100%|███████████████████████████████████████████████████| 1427/1427 [00:16<00:00, 84.73it/s]\n"
     ]
    },
    {
     "name": "stdout",
     "output_type": "stream",
     "text": [
      "after 1 epoch, train_acc = 23.67%, test_acc = 12.58%,        time_elapsed = 0.4 minuts\n"
     ]
    },
    {
     "name": "stderr",
     "output_type": "stream",
     "text": [
      "epoch [2/11], loss=1.8337: 100%|███████████████████████████████████████████████████| 1427/1427 [00:16<00:00, 86.51it/s]\n"
     ]
    },
    {
     "name": "stdout",
     "output_type": "stream",
     "text": [
      "after 2 epoch, train_acc = 24.42%, test_acc = 15.88%,        time_elapsed = 0.4 minuts\n"
     ]
    },
    {
     "name": "stderr",
     "output_type": "stream",
     "text": [
      "epoch [3/11], loss=1.8066: 100%|███████████████████████████████████████████████████| 1427/1427 [00:16<00:00, 86.40it/s]\n"
     ]
    },
    {
     "name": "stdout",
     "output_type": "stream",
     "text": [
      "after 3 epoch, train_acc = 24.56%, test_acc = 12.56%,        time_elapsed = 0.4 minuts\n"
     ]
    },
    {
     "name": "stderr",
     "output_type": "stream",
     "text": [
      "epoch [4/11], loss=1.6659: 100%|███████████████████████████████████████████████████| 1427/1427 [00:16<00:00, 84.21it/s]\n"
     ]
    },
    {
     "name": "stdout",
     "output_type": "stream",
     "text": [
      "after 4 epoch, train_acc = 24.37%, test_acc = 13.63%,        time_elapsed = 0.5 minuts\n"
     ]
    },
    {
     "name": "stderr",
     "output_type": "stream",
     "text": [
      "epoch [5/11], loss=1.8847: 100%|███████████████████████████████████████████████████| 1427/1427 [00:17<00:00, 80.57it/s]\n"
     ]
    },
    {
     "name": "stdout",
     "output_type": "stream",
     "text": [
      "after 5 epoch, train_acc = 23.10%, test_acc = 11.70%,        time_elapsed = 0.4 minuts\n"
     ]
    },
    {
     "name": "stderr",
     "output_type": "stream",
     "text": [
      "epoch [6/11], loss=1.9025: 100%|███████████████████████████████████████████████████| 1427/1427 [00:16<00:00, 85.33it/s]\n"
     ]
    },
    {
     "name": "stdout",
     "output_type": "stream",
     "text": [
      "after 6 epoch, train_acc = 24.52%, test_acc = 11.87%,        time_elapsed = 0.4 minuts\n"
     ]
    },
    {
     "name": "stderr",
     "output_type": "stream",
     "text": [
      "epoch [7/11], loss=1.8803: 100%|███████████████████████████████████████████████████| 1427/1427 [00:15<00:00, 89.72it/s]\n"
     ]
    },
    {
     "name": "stdout",
     "output_type": "stream",
     "text": [
      "after 7 epoch, train_acc = 23.70%, test_acc = 13.36%,        time_elapsed = 0.4 minuts\n"
     ]
    },
    {
     "name": "stderr",
     "output_type": "stream",
     "text": [
      "epoch [8/11], loss=1.9440: 100%|███████████████████████████████████████████████████| 1427/1427 [00:16<00:00, 87.10it/s]\n"
     ]
    },
    {
     "name": "stdout",
     "output_type": "stream",
     "text": [
      "after 8 epoch, train_acc = 24.97%, test_acc = 14.42%,        time_elapsed = 0.4 minuts\n"
     ]
    },
    {
     "name": "stderr",
     "output_type": "stream",
     "text": [
      "epoch [9/11], loss=1.7750: 100%|███████████████████████████████████████████████████| 1427/1427 [00:15<00:00, 89.30it/s]\n"
     ]
    },
    {
     "name": "stdout",
     "output_type": "stream",
     "text": [
      "after 9 epoch, train_acc = 24.89%, test_acc = 12.86%,        time_elapsed = 0.4 minuts\n"
     ]
    },
    {
     "name": "stderr",
     "output_type": "stream",
     "text": [
      "epoch [10/11], loss=1.8186: 100%|██████████████████████████████████████████████████| 1427/1427 [00:15<00:00, 90.38it/s]\n"
     ]
    },
    {
     "name": "stdout",
     "output_type": "stream",
     "text": [
      "after 10 epoch, train_acc = 25.90%, test_acc = 12.81%,        time_elapsed = 0.4 minuts\n"
     ]
    },
    {
     "name": "stderr",
     "output_type": "stream",
     "text": [
      "epoch [11/11], loss=1.8817: 100%|██████████████████████████████████████████████████| 1427/1427 [00:19<00:00, 72.07it/s]\n"
     ]
    },
    {
     "name": "stdout",
     "output_type": "stream",
     "text": [
      "after 11 epoch, train_acc = 22.08%, test_acc = 13.21%,        time_elapsed = 0.5 minuts\n"
     ]
    }
   ],
   "source": [
    "num_epochs = 11\n",
    "def train_model(num_epochs, data_loader=train_loader_day):\n",
    "    num_batches = len(data_loader)\n",
    "    print(f\"\"\"batch_size = {batch_size} \\n starting learning rate = {lr} \\n number of epochs = {num_epochs}\\\n",
    "    \\n number of batches = {num_batches} \\n model = {model}, \\n criterion={criterion}, \\n optimizer={optimizer}\"\"\")\n",
    "   \n",
    "    # starting training loop epochs\n",
    "    result_train_acc, result_test_acc = [], []\n",
    "    for epoch in range(num_epochs):\n",
    "        start_time = time.time()\n",
    "        progress = tqdm(enumerate(data_loader), total=num_batches, leave=True)\n",
    "        for batch_idx, (data, labels) in progress: \n",
    "\n",
    "            # convert data to device\n",
    "            data = data.to(device=device)\n",
    "            labels = labels.to(device=device)\n",
    "\n",
    "            # getting prediction and loss\n",
    "            preds = model(data)\n",
    "            loss = criterion(preds, labels)\n",
    "\n",
    "            # back propagation\n",
    "            optimizer.zero_grad()\n",
    "            loss.backward()\n",
    "\n",
    "            # optimization step\n",
    "            optimizer.step()\n",
    "\n",
    "            progress.set_description(f\"epoch [{1+epoch}/{num_epochs}], loss={loss.item():0.4f}\")\n",
    "            progress.set_postfix()\n",
    "\n",
    "        train_acc = calculate_accuracy(model, data_loader=train_loader_day)\n",
    "        test_acc = calculate_accuracy(model, data_loader=test_loader_day)\n",
    "        schedular.step(test_acc)\n",
    "        print(f\"after {1+epoch} epoch, train_acc = {(train_acc*100):.2f}%, test_acc = {(test_acc*100):.2f}%,\\\n",
    "        time_elapsed = {((time.time()-start_time)/60):.1f} minuts\")\n",
    "        result_train_acc += [train_acc]\n",
    "        result_test_acc += [test_acc]\n",
    "    return result_train_acc, result_test_acc\n",
    "result_train_acc, result_test_acc = train_model(num_epochs, data_loader=train_loader_day)\n"
   ]
  },
  {
   "cell_type": "code",
   "execution_count": 28,
   "id": "026b82e8-ae5e-41a9-bc13-ad94585209b0",
   "metadata": {},
   "outputs": [
    {
     "name": "stdout",
     "output_type": "stream",
     "text": [
      "maximun training accuracy=25.902942657470703\n",
      "maximun test accuracy=15.876096725463867\n"
     ]
    }
   ],
   "source": [
    "print(f\"maximun training accuracy={max(result_train_acc)}\\nmaximun test accuracy={max(result_test_acc)}\")"
   ]
  },
  {
   "cell_type": "code",
   "execution_count": 51,
   "id": "291886a6-0c26-4ac8-819e-554b193fd76b",
   "metadata": {},
   "outputs": [
    {
     "data": {
      "image/png": "[encoded data removed]",
      "text/plain": [
       "<Figure size 432x288 with 1 Axes>"
      ]
     },
     "metadata": {
      "needs_background": "light"
     },
     "output_type": "display_data"
    }
   ],
   "source": [
    "train_line, = plt.plot(list(range(num_epochs)), [i.cpu().numpy() for i in result_train_acc], label=\"train accuracy\")\n",
    "test_line, = plt.plot(list(range(num_epochs)), [i.cpu().numpy() for i in result_test_acc], label=\"test accuracy\")\n",
    "plt.legend(loc=\"best\", handles=[train_line, test_line])\n",
    "plt.title(\"train & test accuracy\")\n",
    "plt.xlabel(\"epochs\")\n",
    "plt.ylabel(\"accuracy percentage\")\n",
    "plt.grid()\n",
    "plt.show()"
   ]
  },
  {
   "cell_type": "code",
   "execution_count": 53,
   "id": "cdf7e710-d5de-4a5a-913a-af6d8f807df5",
   "metadata": {},
   "outputs": [
    {
     "data": {
      "text/html": [
       "<div>\n",
       "<style scoped>\n",
       "    .dataframe tbody tr th:only-of-type {\n",
       "        vertical-align: middle;\n",
       "    }\n",
       "\n",
       "    .dataframe tbody tr th {\n",
       "        vertical-align: top;\n",
       "    }\n",
       "\n",
       "    .dataframe thead th {\n",
       "        text-align: right;\n",
       "    }\n",
       "</style>\n",
       "<table border=\"1\" class=\"dataframe\">\n",
       "  <thead>\n",
       "    <tr style=\"text-align: right;\">\n",
       "      <th></th>\n",
       "      <th>weekday_name</th>\n",
       "      <th>month</th>\n",
       "      <th>century</th>\n",
       "      <th>century_year</th>\n",
       "      <th>leap_year_condition</th>\n",
       "      <th>predicted_days_group_index</th>\n",
       "      <th>correct_output</th>\n",
       "    </tr>\n",
       "  </thead>\n",
       "  <tbody>\n",
       "    <tr>\n",
       "      <th>19729</th>\n",
       "      <td>3</td>\n",
       "      <td>2</td>\n",
       "      <td>0</td>\n",
       "      <td>8.0</td>\n",
       "      <td>1</td>\n",
       "      <td>0</td>\n",
       "      <td>4</td>\n",
       "    </tr>\n",
       "    <tr>\n",
       "      <th>18483</th>\n",
       "      <td>5</td>\n",
       "      <td>11</td>\n",
       "      <td>0</td>\n",
       "      <td>3.7</td>\n",
       "      <td>0</td>\n",
       "      <td>8</td>\n",
       "      <td>3</td>\n",
       "    </tr>\n",
       "    <tr>\n",
       "      <th>103614</th>\n",
       "      <td>6</td>\n",
       "      <td>7</td>\n",
       "      <td>1</td>\n",
       "      <td>5.6</td>\n",
       "      <td>1</td>\n",
       "      <td>9</td>\n",
       "      <td>7</td>\n",
       "    </tr>\n",
       "    <tr>\n",
       "      <th>8841</th>\n",
       "      <td>1</td>\n",
       "      <td>11</td>\n",
       "      <td>0</td>\n",
       "      <td>1.9</td>\n",
       "      <td>0</td>\n",
       "      <td>8</td>\n",
       "      <td>8</td>\n",
       "    </tr>\n",
       "    <tr>\n",
       "      <th>97054</th>\n",
       "      <td>5</td>\n",
       "      <td>3</td>\n",
       "      <td>0</td>\n",
       "      <td>1.2</td>\n",
       "      <td>1</td>\n",
       "      <td>9</td>\n",
       "      <td>6</td>\n",
       "    </tr>\n",
       "    <tr>\n",
       "      <th>...</th>\n",
       "      <td>...</td>\n",
       "      <td>...</td>\n",
       "      <td>...</td>\n",
       "      <td>...</td>\n",
       "      <td>...</td>\n",
       "      <td>...</td>\n",
       "      <td>...</td>\n",
       "    </tr>\n",
       "    <tr>\n",
       "      <th>22506</th>\n",
       "      <td>3</td>\n",
       "      <td>9</td>\n",
       "      <td>0</td>\n",
       "      <td>5.0</td>\n",
       "      <td>0</td>\n",
       "      <td>9</td>\n",
       "      <td>4</td>\n",
       "    </tr>\n",
       "    <tr>\n",
       "      <th>10317</th>\n",
       "      <td>6</td>\n",
       "      <td>2</td>\n",
       "      <td>2</td>\n",
       "      <td>9.2</td>\n",
       "      <td>1</td>\n",
       "      <td>0</td>\n",
       "      <td>2</td>\n",
       "    </tr>\n",
       "    <tr>\n",
       "      <th>5001</th>\n",
       "      <td>0</td>\n",
       "      <td>1</td>\n",
       "      <td>1</td>\n",
       "      <td>8.9</td>\n",
       "      <td>0</td>\n",
       "      <td>9</td>\n",
       "      <td>8</td>\n",
       "    </tr>\n",
       "    <tr>\n",
       "      <th>113721</th>\n",
       "      <td>1</td>\n",
       "      <td>8</td>\n",
       "      <td>2</td>\n",
       "      <td>3.8</td>\n",
       "      <td>0</td>\n",
       "      <td>9</td>\n",
       "      <td>9</td>\n",
       "    </tr>\n",
       "    <tr>\n",
       "      <th>111568</th>\n",
       "      <td>0</td>\n",
       "      <td>3</td>\n",
       "      <td>0</td>\n",
       "      <td>9.0</td>\n",
       "      <td>0</td>\n",
       "      <td>9</td>\n",
       "      <td>9</td>\n",
       "    </tr>\n",
       "  </tbody>\n",
       "</table>\n",
       "<p>27828 rows × 7 columns</p>\n",
       "</div>"
      ],
      "text/plain": [
       "        weekday_name  month  century  century_year  leap_year_condition  \\\n",
       "19729              3      2        0           8.0                    1   \n",
       "18483              5     11        0           3.7                    0   \n",
       "103614             6      7        1           5.6                    1   \n",
       "8841               1     11        0           1.9                    0   \n",
       "97054              5      3        0           1.2                    1   \n",
       "...              ...    ...      ...           ...                  ...   \n",
       "22506              3      9        0           5.0                    0   \n",
       "10317              6      2        2           9.2                    1   \n",
       "5001               0      1        1           8.9                    0   \n",
       "113721             1      8        2           3.8                    0   \n",
       "111568             0      3        0           9.0                    0   \n",
       "\n",
       "        predicted_days_group_index  correct_output  \n",
       "19729                            0               4  \n",
       "18483                            8               3  \n",
       "103614                           9               7  \n",
       "8841                             8               8  \n",
       "97054                            9               6  \n",
       "...                            ...             ...  \n",
       "22506                            9               4  \n",
       "10317                            0               2  \n",
       "5001                             9               8  \n",
       "113721                           9               9  \n",
       "111568                           9               9  \n",
       "\n",
       "[27828 rows x 7 columns]"
      ]
     },
     "execution_count": 53,
     "metadata": {},
     "output_type": "execute_result"
    }
   ],
   "source": [
    "d_test = xtest_day\n",
    "dt = d_test.copy(deep=True)\n",
    "d_test = torch.tensor(d_test.values.astype(np.float32))\n",
    "preds = model(d_test.to(device=device)).argmax(dim=1).cpu()\n",
    "dt[\"predicted_days_group_index\"] = preds\n",
    "dt[\"correct_output\"] = ytest_day\n",
    "dt"
   ]
  },
  {
   "cell_type": "code",
   "execution_count": 60,
   "id": "b77e045d-a7b7-47bf-b1e0-8936128ec27f",
   "metadata": {},
   "outputs": [
    {
     "data": {
      "text/plain": [
       "tensor([0, 8, 9,  ..., 9, 9, 9])"
      ]
     },
     "execution_count": 60,
     "metadata": {},
     "output_type": "execute_result"
    }
   ],
   "source": [
    "days_tensor = torch.tensor((xtest_day[[\"weekday_name\", \"month\", \"century\", \"century_year\", \"leap_year_condition\"]].values.astype(np.float32)))\n",
    "preds = model(days_tensor.to(device=device)).argmax(dim=1).cpu()\n",
    "preds"
   ]
  },
  {
   "cell_type": "code",
   "execution_count": 61,
   "id": "66548e8b-6d86-41ea-9324-c68afb7d58e3",
   "metadata": {},
   "outputs": [],
   "source": [
    "torch.save(model, \"../data/day_model_saved\")\n",
    "model = torch.load(\"../data/day_model_saved\")"
   ]
  },
  {
   "cell_type": "code",
   "execution_count": 62,
   "id": "993839c3-cabd-4ba6-9142-9a8e374e471e",
   "metadata": {},
   "outputs": [],
   "source": [
    "dt.to_csv(\"../data/day_predections.csv\", header=True, index=True)"
   ]
  },
  {
   "cell_type": "code",
   "execution_count": null,
   "id": "33b81e2b-3a15-460f-8f34-72ff7362e3d6",
   "metadata": {},
   "outputs": [],
   "source": []
  }
 ],
 "metadata": {
  "kernelspec": {
   "display_name": "Python 3 (ipykernel)",
   "language": "python",
   "name": "python3"
  },
  "language_info": {
   "codemirror_mode": {
    "name": "ipython",
    "version": 3
   },
   "file_extension": ".py",
   "mimetype": "text/x-python",
   "name": "python",
   "nbconvert_exporter": "python",
   "pygments_lexer": "ipython3",
   "version": "3.9.7"
  }
 },
 "nbformat": 4,
 "nbformat_minor": 5
}
